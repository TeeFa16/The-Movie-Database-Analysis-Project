{
 "cells": [
  {
   "cell_type": "code",
   "execution_count": 162,
   "metadata": {},
   "outputs": [],
   "source": [
    "import pandas as pd\n",
    "import numpy as np"
   ]
  },
  {
   "cell_type": "code",
   "execution_count": 163,
   "metadata": {},
   "outputs": [
    {
     "data": {
      "text/plain": [
       "Index(['movie_id', 'title', 'release_date', 'popularity', 'budget', 'revenue',\n",
       "       'vote_average', 'vote_count', 'rating_avg', 'rating_count',\n",
       "       'release_year'],\n",
       "      dtype='object')"
      ]
     },
     "execution_count": 163,
     "metadata": {},
     "output_type": "execute_result"
    }
   ],
   "source": [
    "movie_df = pd.read_csv('./dataclean/movie_df.csv')\n",
    "movie_df.columns"
   ]
  },
  {
   "cell_type": "code",
   "execution_count": 164,
   "metadata": {},
   "outputs": [
    {
     "data": {
      "text/html": [
       "<div>\n",
       "<style scoped>\n",
       "    .dataframe tbody tr th:only-of-type {\n",
       "        vertical-align: middle;\n",
       "    }\n",
       "\n",
       "    .dataframe tbody tr th {\n",
       "        vertical-align: top;\n",
       "    }\n",
       "\n",
       "    .dataframe thead th {\n",
       "        text-align: right;\n",
       "    }\n",
       "</style>\n",
       "<table border=\"1\" class=\"dataframe\">\n",
       "  <thead>\n",
       "    <tr style=\"text-align: right;\">\n",
       "      <th></th>\n",
       "      <th>movie_id</th>\n",
       "      <th>title</th>\n",
       "      <th>release_date</th>\n",
       "      <th>popularity</th>\n",
       "      <th>budget</th>\n",
       "      <th>revenue</th>\n",
       "      <th>vote_average</th>\n",
       "      <th>vote_count</th>\n",
       "      <th>rating_avg</th>\n",
       "      <th>rating_count</th>\n",
       "      <th>release_year</th>\n",
       "    </tr>\n",
       "  </thead>\n",
       "  <tbody>\n",
       "    <tr>\n",
       "      <th>3604</th>\n",
       "      <td>27205</td>\n",
       "      <td>Inception</td>\n",
       "      <td>2010-07-14</td>\n",
       "      <td>29.108149</td>\n",
       "      <td>160000000</td>\n",
       "      <td>8.255328e+08</td>\n",
       "      <td>8.1</td>\n",
       "      <td>14075.0</td>\n",
       "      <td>3.70</td>\n",
       "      <td>5</td>\n",
       "      <td>2010</td>\n",
       "    </tr>\n",
       "    <tr>\n",
       "      <th>3123</th>\n",
       "      <td>155</td>\n",
       "      <td>The Dark Knight</td>\n",
       "      <td>2008-07-16</td>\n",
       "      <td>123.167259</td>\n",
       "      <td>185000000</td>\n",
       "      <td>1.004558e+09</td>\n",
       "      <td>8.3</td>\n",
       "      <td>12269.0</td>\n",
       "      <td>3.40</td>\n",
       "      <td>1319</td>\n",
       "      <td>2008</td>\n",
       "    </tr>\n",
       "    <tr>\n",
       "      <th>4825</th>\n",
       "      <td>157336</td>\n",
       "      <td>Interstellar</td>\n",
       "      <td>2014-11-05</td>\n",
       "      <td>32.213481</td>\n",
       "      <td>165000000</td>\n",
       "      <td>6.751200e+08</td>\n",
       "      <td>8.1</td>\n",
       "      <td>11187.0</td>\n",
       "      <td>2.50</td>\n",
       "      <td>4</td>\n",
       "      <td>2014</td>\n",
       "    </tr>\n",
       "    <tr>\n",
       "      <th>4953</th>\n",
       "      <td>118340</td>\n",
       "      <td>Guardians of the Galaxy</td>\n",
       "      <td>2014-07-30</td>\n",
       "      <td>53.291601</td>\n",
       "      <td>170000000</td>\n",
       "      <td>7.733286e+08</td>\n",
       "      <td>7.9</td>\n",
       "      <td>10014.0</td>\n",
       "      <td>4.00</td>\n",
       "      <td>1</td>\n",
       "      <td>2014</td>\n",
       "    </tr>\n",
       "    <tr>\n",
       "      <th>839</th>\n",
       "      <td>550</td>\n",
       "      <td>Fight Club</td>\n",
       "      <td>1999-10-15</td>\n",
       "      <td>63.869599</td>\n",
       "      <td>63000000</td>\n",
       "      <td>1.008538e+08</td>\n",
       "      <td>8.3</td>\n",
       "      <td>9678.0</td>\n",
       "      <td>3.08</td>\n",
       "      <td>3477</td>\n",
       "      <td>1999</td>\n",
       "    </tr>\n",
       "    <tr>\n",
       "      <th>729</th>\n",
       "      <td>603</td>\n",
       "      <td>The Matrix</td>\n",
       "      <td>1999-03-30</td>\n",
       "      <td>33.366332</td>\n",
       "      <td>63000000</td>\n",
       "      <td>4.635174e+08</td>\n",
       "      <td>7.9</td>\n",
       "      <td>9079.0</td>\n",
       "      <td>2.96</td>\n",
       "      <td>622</td>\n",
       "      <td>1999</td>\n",
       "    </tr>\n",
       "    <tr>\n",
       "      <th>3146</th>\n",
       "      <td>1726</td>\n",
       "      <td>Iron Man</td>\n",
       "      <td>2008-04-30</td>\n",
       "      <td>22.073099</td>\n",
       "      <td>140000000</td>\n",
       "      <td>5.851742e+08</td>\n",
       "      <td>7.4</td>\n",
       "      <td>8951.0</td>\n",
       "      <td>2.96</td>\n",
       "      <td>2477</td>\n",
       "      <td>2008</td>\n",
       "    </tr>\n",
       "    <tr>\n",
       "      <th>1339</th>\n",
       "      <td>120</td>\n",
       "      <td>The Lord of the Rings: The Fellowship of the Ring</td>\n",
       "      <td>2001-12-18</td>\n",
       "      <td>32.070725</td>\n",
       "      <td>93000000</td>\n",
       "      <td>8.713684e+08</td>\n",
       "      <td>8.0</td>\n",
       "      <td>8892.0</td>\n",
       "      <td>2.88</td>\n",
       "      <td>166</td>\n",
       "      <td>2001</td>\n",
       "    </tr>\n",
       "    <tr>\n",
       "      <th>80</th>\n",
       "      <td>680</td>\n",
       "      <td>Pulp Fiction</td>\n",
       "      <td>1994-09-10</td>\n",
       "      <td>140.950236</td>\n",
       "      <td>8000000</td>\n",
       "      <td>2.139288e+08</td>\n",
       "      <td>8.3</td>\n",
       "      <td>8670.0</td>\n",
       "      <td>3.55</td>\n",
       "      <td>1246</td>\n",
       "      <td>1994</td>\n",
       "    </tr>\n",
       "    <tr>\n",
       "      <th>88</th>\n",
       "      <td>278</td>\n",
       "      <td>The Shawshank Redemption</td>\n",
       "      <td>1994-09-23</td>\n",
       "      <td>51.645403</td>\n",
       "      <td>25000000</td>\n",
       "      <td>2.834147e+07</td>\n",
       "      <td>8.5</td>\n",
       "      <td>8358.0</td>\n",
       "      <td>3.02</td>\n",
       "      <td>1178</td>\n",
       "      <td>1994</td>\n",
       "    </tr>\n",
       "  </tbody>\n",
       "</table>\n",
       "</div>"
      ],
      "text/plain": [
       "      movie_id                                              title  \\\n",
       "3604     27205                                          Inception   \n",
       "3123       155                                    The Dark Knight   \n",
       "4825    157336                                       Interstellar   \n",
       "4953    118340                            Guardians of the Galaxy   \n",
       "839        550                                         Fight Club   \n",
       "729        603                                         The Matrix   \n",
       "3146      1726                                           Iron Man   \n",
       "1339       120  The Lord of the Rings: The Fellowship of the Ring   \n",
       "80         680                                       Pulp Fiction   \n",
       "88         278                           The Shawshank Redemption   \n",
       "\n",
       "     release_date  popularity     budget       revenue  vote_average  \\\n",
       "3604   2010-07-14   29.108149  160000000  8.255328e+08           8.1   \n",
       "3123   2008-07-16  123.167259  185000000  1.004558e+09           8.3   \n",
       "4825   2014-11-05   32.213481  165000000  6.751200e+08           8.1   \n",
       "4953   2014-07-30   53.291601  170000000  7.733286e+08           7.9   \n",
       "839    1999-10-15   63.869599   63000000  1.008538e+08           8.3   \n",
       "729    1999-03-30   33.366332   63000000  4.635174e+08           7.9   \n",
       "3146   2008-04-30   22.073099  140000000  5.851742e+08           7.4   \n",
       "1339   2001-12-18   32.070725   93000000  8.713684e+08           8.0   \n",
       "80     1994-09-10  140.950236    8000000  2.139288e+08           8.3   \n",
       "88     1994-09-23   51.645403   25000000  2.834147e+07           8.5   \n",
       "\n",
       "      vote_count  rating_avg  rating_count  release_year  \n",
       "3604     14075.0        3.70             5          2010  \n",
       "3123     12269.0        3.40          1319          2008  \n",
       "4825     11187.0        2.50             4          2014  \n",
       "4953     10014.0        4.00             1          2014  \n",
       "839       9678.0        3.08          3477          1999  \n",
       "729       9079.0        2.96           622          1999  \n",
       "3146      8951.0        2.96          2477          2008  \n",
       "1339      8892.0        2.88           166          2001  \n",
       "80        8670.0        3.55          1246          1994  \n",
       "88        8358.0        3.02          1178          1994  "
      ]
     },
     "execution_count": 164,
     "metadata": {},
     "output_type": "execute_result"
    }
   ],
   "source": [
    "movie_df.sort_values(by= 'vote_count', ascending= False).head(10)"
   ]
  },
  {
   "attachments": {},
   "cell_type": "markdown",
   "metadata": {},
   "source": [
    "We can see that there are many popular movies in this list, let's check if our users agree"
   ]
  },
  {
   "cell_type": "code",
   "execution_count": 165,
   "metadata": {},
   "outputs": [
    {
     "data": {
      "text/html": [
       "<div>\n",
       "<style scoped>\n",
       "    .dataframe tbody tr th:only-of-type {\n",
       "        vertical-align: middle;\n",
       "    }\n",
       "\n",
       "    .dataframe tbody tr th {\n",
       "        vertical-align: top;\n",
       "    }\n",
       "\n",
       "    .dataframe thead th {\n",
       "        text-align: right;\n",
       "    }\n",
       "</style>\n",
       "<table border=\"1\" class=\"dataframe\">\n",
       "  <thead>\n",
       "    <tr style=\"text-align: right;\">\n",
       "      <th></th>\n",
       "      <th>movie_id</th>\n",
       "      <th>title</th>\n",
       "      <th>release_date</th>\n",
       "      <th>popularity</th>\n",
       "      <th>budget</th>\n",
       "      <th>revenue</th>\n",
       "      <th>vote_average</th>\n",
       "      <th>vote_count</th>\n",
       "      <th>rating_avg</th>\n",
       "      <th>rating_count</th>\n",
       "      <th>release_year</th>\n",
       "    </tr>\n",
       "  </thead>\n",
       "  <tbody>\n",
       "    <tr>\n",
       "      <th>1145</th>\n",
       "      <td>318</td>\n",
       "      <td>The Million Dollar Hotel</td>\n",
       "      <td>2000-02-09</td>\n",
       "      <td>4.938231</td>\n",
       "      <td>8000000</td>\n",
       "      <td>0.0</td>\n",
       "      <td>5.9</td>\n",
       "      <td>76.0</td>\n",
       "      <td>4.43</td>\n",
       "      <td>91082</td>\n",
       "      <td>2000</td>\n",
       "    </tr>\n",
       "    <tr>\n",
       "      <th>1661</th>\n",
       "      <td>296</td>\n",
       "      <td>Terminator 3: Rise of the Machines</td>\n",
       "      <td>2003-07-02</td>\n",
       "      <td>20.818907</td>\n",
       "      <td>200000000</td>\n",
       "      <td>435000000.0</td>\n",
       "      <td>5.9</td>\n",
       "      <td>2177.0</td>\n",
       "      <td>4.17</td>\n",
       "      <td>87901</td>\n",
       "      <td>2003</td>\n",
       "    </tr>\n",
       "    <tr>\n",
       "      <th>974</th>\n",
       "      <td>593</td>\n",
       "      <td>Солярис</td>\n",
       "      <td>1972-03-20</td>\n",
       "      <td>11.059785</td>\n",
       "      <td>0</td>\n",
       "      <td>0.0</td>\n",
       "      <td>7.7</td>\n",
       "      <td>364.0</td>\n",
       "      <td>4.15</td>\n",
       "      <td>84078</td>\n",
       "      <td>1972</td>\n",
       "    </tr>\n",
       "    <tr>\n",
       "      <th>256</th>\n",
       "      <td>260</td>\n",
       "      <td>The 39 Steps</td>\n",
       "      <td>1935-06-01</td>\n",
       "      <td>5.865697</td>\n",
       "      <td>0</td>\n",
       "      <td>0.0</td>\n",
       "      <td>7.4</td>\n",
       "      <td>217.0</td>\n",
       "      <td>4.13</td>\n",
       "      <td>77045</td>\n",
       "      <td>1935</td>\n",
       "    </tr>\n",
       "    <tr>\n",
       "      <th>1374</th>\n",
       "      <td>480</td>\n",
       "      <td>Monsoon Wedding</td>\n",
       "      <td>2001-08-30</td>\n",
       "      <td>10.625504</td>\n",
       "      <td>0</td>\n",
       "      <td>0.0</td>\n",
       "      <td>6.8</td>\n",
       "      <td>59.0</td>\n",
       "      <td>3.66</td>\n",
       "      <td>74355</td>\n",
       "      <td>2001</td>\n",
       "    </tr>\n",
       "    <tr>\n",
       "      <th>76</th>\n",
       "      <td>527</td>\n",
       "      <td>Once Were Warriors</td>\n",
       "      <td>1994-09-02</td>\n",
       "      <td>4.025276</td>\n",
       "      <td>0</td>\n",
       "      <td>2201126.0</td>\n",
       "      <td>7.6</td>\n",
       "      <td>106.0</td>\n",
       "      <td>4.27</td>\n",
       "      <td>67662</td>\n",
       "      <td>1994</td>\n",
       "    </tr>\n",
       "    <tr>\n",
       "      <th>82</th>\n",
       "      <td>110</td>\n",
       "      <td>Trois couleurs : Rouge</td>\n",
       "      <td>1994-05-27</td>\n",
       "      <td>7.832755</td>\n",
       "      <td>0</td>\n",
       "      <td>0.0</td>\n",
       "      <td>7.8</td>\n",
       "      <td>246.0</td>\n",
       "      <td>4.02</td>\n",
       "      <td>66512</td>\n",
       "      <td>1994</td>\n",
       "    </tr>\n",
       "    <tr>\n",
       "      <th>2941</th>\n",
       "      <td>2959</td>\n",
       "      <td>License to Wed</td>\n",
       "      <td>2007-07-04</td>\n",
       "      <td>7.102076</td>\n",
       "      <td>35000000</td>\n",
       "      <td>69307224.0</td>\n",
       "      <td>5.3</td>\n",
       "      <td>258.0</td>\n",
       "      <td>4.23</td>\n",
       "      <td>60024</td>\n",
       "      <td>2007</td>\n",
       "    </tr>\n",
       "    <tr>\n",
       "      <th>1358</th>\n",
       "      <td>150</td>\n",
       "      <td>48 Hrs.</td>\n",
       "      <td>1982-12-07</td>\n",
       "      <td>15.297121</td>\n",
       "      <td>12000000</td>\n",
       "      <td>78868508.0</td>\n",
       "      <td>6.5</td>\n",
       "      <td>364.0</td>\n",
       "      <td>3.88</td>\n",
       "      <td>57416</td>\n",
       "      <td>1982</td>\n",
       "    </tr>\n",
       "    <tr>\n",
       "      <th>1773</th>\n",
       "      <td>780</td>\n",
       "      <td>La passion de Jeanne d'Arc</td>\n",
       "      <td>1928-04-21</td>\n",
       "      <td>8.903953</td>\n",
       "      <td>0</td>\n",
       "      <td>0.0</td>\n",
       "      <td>8.2</td>\n",
       "      <td>159.0</td>\n",
       "      <td>3.40</td>\n",
       "      <td>57232</td>\n",
       "      <td>1928</td>\n",
       "    </tr>\n",
       "  </tbody>\n",
       "</table>\n",
       "</div>"
      ],
      "text/plain": [
       "      movie_id                               title release_date  popularity  \\\n",
       "1145       318            The Million Dollar Hotel   2000-02-09    4.938231   \n",
       "1661       296  Terminator 3: Rise of the Machines   2003-07-02   20.818907   \n",
       "974        593                             Солярис   1972-03-20   11.059785   \n",
       "256        260                        The 39 Steps   1935-06-01    5.865697   \n",
       "1374       480                     Monsoon Wedding   2001-08-30   10.625504   \n",
       "76         527                  Once Were Warriors   1994-09-02    4.025276   \n",
       "82         110              Trois couleurs : Rouge   1994-05-27    7.832755   \n",
       "2941      2959                      License to Wed   2007-07-04    7.102076   \n",
       "1358       150                             48 Hrs.   1982-12-07   15.297121   \n",
       "1773       780          La passion de Jeanne d'Arc   1928-04-21    8.903953   \n",
       "\n",
       "         budget      revenue  vote_average  vote_count  rating_avg  \\\n",
       "1145    8000000          0.0           5.9        76.0        4.43   \n",
       "1661  200000000  435000000.0           5.9      2177.0        4.17   \n",
       "974           0          0.0           7.7       364.0        4.15   \n",
       "256           0          0.0           7.4       217.0        4.13   \n",
       "1374          0          0.0           6.8        59.0        3.66   \n",
       "76            0    2201126.0           7.6       106.0        4.27   \n",
       "82            0          0.0           7.8       246.0        4.02   \n",
       "2941   35000000   69307224.0           5.3       258.0        4.23   \n",
       "1358   12000000   78868508.0           6.5       364.0        3.88   \n",
       "1773          0          0.0           8.2       159.0        3.40   \n",
       "\n",
       "      rating_count  release_year  \n",
       "1145         91082          2000  \n",
       "1661         87901          2003  \n",
       "974          84078          1972  \n",
       "256          77045          1935  \n",
       "1374         74355          2001  \n",
       "76           67662          1994  \n",
       "82           66512          1994  \n",
       "2941         60024          2007  \n",
       "1358         57416          1982  \n",
       "1773         57232          1928  "
      ]
     },
     "execution_count": 165,
     "metadata": {},
     "output_type": "execute_result"
    }
   ],
   "source": [
    "movie_df.sort_values(by= 'rating_count', ascending= False).head(10)"
   ]
  },
  {
   "attachments": {},
   "cell_type": "markdown",
   "metadata": {},
   "source": [
    "We cannot see much of any famous movies here! Looks like the data is not the genuine stuff that generated the original API statistics, the data provided in this dataset is not leaning towards the mainstream audience  \n",
    "It is fortunate that ALS works well with sparse data distributions, now the challenge introduces itself to recommend movies for a user with one rating or with one search or fewer  \n",
    "We can use the clean data we have to generate recommendations based on movies similarities between movies"
   ]
  },
  {
   "cell_type": "code",
   "execution_count": 166,
   "metadata": {},
   "outputs": [
    {
     "data": {
      "text/html": [
       "<div>\n",
       "<style scoped>\n",
       "    .dataframe tbody tr th:only-of-type {\n",
       "        vertical-align: middle;\n",
       "    }\n",
       "\n",
       "    .dataframe tbody tr th {\n",
       "        vertical-align: top;\n",
       "    }\n",
       "\n",
       "    .dataframe thead th {\n",
       "        text-align: right;\n",
       "    }\n",
       "</style>\n",
       "<table border=\"1\" class=\"dataframe\">\n",
       "  <thead>\n",
       "    <tr style=\"text-align: right;\">\n",
       "      <th></th>\n",
       "      <th>movie_id</th>\n",
       "      <th>name</th>\n",
       "    </tr>\n",
       "  </thead>\n",
       "  <tbody>\n",
       "    <tr>\n",
       "      <th>0</th>\n",
       "      <td>862</td>\n",
       "      <td>John Lasseter</td>\n",
       "    </tr>\n",
       "    <tr>\n",
       "      <th>1</th>\n",
       "      <td>8844</td>\n",
       "      <td>Joe Johnston</td>\n",
       "    </tr>\n",
       "    <tr>\n",
       "      <th>2</th>\n",
       "      <td>949</td>\n",
       "      <td>Michael Mann</td>\n",
       "    </tr>\n",
       "    <tr>\n",
       "      <th>3</th>\n",
       "      <td>710</td>\n",
       "      <td>Martin Campbell</td>\n",
       "    </tr>\n",
       "    <tr>\n",
       "      <th>4</th>\n",
       "      <td>1408</td>\n",
       "      <td>Renny Harlin</td>\n",
       "    </tr>\n",
       "  </tbody>\n",
       "</table>\n",
       "</div>"
      ],
      "text/plain": [
       "   movie_id             name\n",
       "0       862    John Lasseter\n",
       "1      8844     Joe Johnston\n",
       "2       949     Michael Mann\n",
       "3       710  Martin Campbell\n",
       "4      1408     Renny Harlin"
      ]
     },
     "execution_count": 166,
     "metadata": {},
     "output_type": "execute_result"
    }
   ],
   "source": [
    "directors = pd.read_csv('./dataclean/directors.csv')\n",
    "directors.head()"
   ]
  },
  {
   "attachments": {},
   "cell_type": "markdown",
   "metadata": {},
   "source": [
    "As established earlier some movies have multiple directors we need that grouped together"
   ]
  },
  {
   "cell_type": "code",
   "execution_count": 167,
   "metadata": {},
   "outputs": [
    {
     "name": "stdout",
     "output_type": "stream",
     "text": [
      "(7429, 2)\n"
     ]
    },
    {
     "data": {
      "text/html": [
       "<div>\n",
       "<style scoped>\n",
       "    .dataframe tbody tr th:only-of-type {\n",
       "        vertical-align: middle;\n",
       "    }\n",
       "\n",
       "    .dataframe tbody tr th {\n",
       "        vertical-align: top;\n",
       "    }\n",
       "\n",
       "    .dataframe thead th {\n",
       "        text-align: right;\n",
       "    }\n",
       "</style>\n",
       "<table border=\"1\" class=\"dataframe\">\n",
       "  <thead>\n",
       "    <tr style=\"text-align: right;\">\n",
       "      <th></th>\n",
       "      <th>movie_id</th>\n",
       "      <th>directors</th>\n",
       "    </tr>\n",
       "  </thead>\n",
       "  <tbody>\n",
       "    <tr>\n",
       "      <th>0</th>\n",
       "      <td>2</td>\n",
       "      <td>[Aki Kaurismäki]</td>\n",
       "    </tr>\n",
       "    <tr>\n",
       "      <th>1</th>\n",
       "      <td>3</td>\n",
       "      <td>[Aki Kaurismäki]</td>\n",
       "    </tr>\n",
       "    <tr>\n",
       "      <th>2</th>\n",
       "      <td>5</td>\n",
       "      <td>[Allison Anders, Alexandre Rockwell, Robert Ro...</td>\n",
       "    </tr>\n",
       "    <tr>\n",
       "      <th>3</th>\n",
       "      <td>6</td>\n",
       "      <td>[Stephen Hopkins]</td>\n",
       "    </tr>\n",
       "    <tr>\n",
       "      <th>4</th>\n",
       "      <td>11</td>\n",
       "      <td>[George Lucas]</td>\n",
       "    </tr>\n",
       "  </tbody>\n",
       "</table>\n",
       "</div>"
      ],
      "text/plain": [
       "   movie_id                                          directors\n",
       "0         2                                   [Aki Kaurismäki]\n",
       "1         3                                   [Aki Kaurismäki]\n",
       "2         5  [Allison Anders, Alexandre Rockwell, Robert Ro...\n",
       "3         6                                  [Stephen Hopkins]\n",
       "4        11                                     [George Lucas]"
      ]
     },
     "execution_count": 167,
     "metadata": {},
     "output_type": "execute_result"
    }
   ],
   "source": [
    "directors_gp = directors.groupby('movie_id').name.apply(list).reset_index(name='directors')\n",
    "print(directors_gp.shape)\n",
    "directors_gp.head()"
   ]
  },
  {
   "cell_type": "code",
   "execution_count": 168,
   "metadata": {},
   "outputs": [
    {
     "data": {
      "text/html": [
       "<div>\n",
       "<style scoped>\n",
       "    .dataframe tbody tr th:only-of-type {\n",
       "        vertical-align: middle;\n",
       "    }\n",
       "\n",
       "    .dataframe tbody tr th {\n",
       "        vertical-align: top;\n",
       "    }\n",
       "\n",
       "    .dataframe thead th {\n",
       "        text-align: right;\n",
       "    }\n",
       "</style>\n",
       "<table border=\"1\" class=\"dataframe\">\n",
       "  <thead>\n",
       "    <tr style=\"text-align: right;\">\n",
       "      <th></th>\n",
       "      <th>movie_id</th>\n",
       "      <th>actor_id</th>\n",
       "      <th>name</th>\n",
       "      <th>order</th>\n",
       "      <th>gender</th>\n",
       "    </tr>\n",
       "  </thead>\n",
       "  <tbody>\n",
       "    <tr>\n",
       "      <th>0</th>\n",
       "      <td>862</td>\n",
       "      <td>31</td>\n",
       "      <td>Tom Hanks</td>\n",
       "      <td>0</td>\n",
       "      <td>2</td>\n",
       "    </tr>\n",
       "    <tr>\n",
       "      <th>1</th>\n",
       "      <td>862</td>\n",
       "      <td>12898</td>\n",
       "      <td>Tim Allen</td>\n",
       "      <td>1</td>\n",
       "      <td>2</td>\n",
       "    </tr>\n",
       "    <tr>\n",
       "      <th>2</th>\n",
       "      <td>862</td>\n",
       "      <td>7167</td>\n",
       "      <td>Don Rickles</td>\n",
       "      <td>2</td>\n",
       "      <td>2</td>\n",
       "    </tr>\n",
       "    <tr>\n",
       "      <th>3</th>\n",
       "      <td>862</td>\n",
       "      <td>12899</td>\n",
       "      <td>Jim Varney</td>\n",
       "      <td>3</td>\n",
       "      <td>2</td>\n",
       "    </tr>\n",
       "    <tr>\n",
       "      <th>4</th>\n",
       "      <td>862</td>\n",
       "      <td>12900</td>\n",
       "      <td>Wallace Shawn</td>\n",
       "      <td>4</td>\n",
       "      <td>2</td>\n",
       "    </tr>\n",
       "  </tbody>\n",
       "</table>\n",
       "</div>"
      ],
      "text/plain": [
       "   movie_id  actor_id           name  order  gender\n",
       "0       862        31      Tom Hanks      0       2\n",
       "1       862     12898      Tim Allen      1       2\n",
       "2       862      7167    Don Rickles      2       2\n",
       "3       862     12899     Jim Varney      3       2\n",
       "4       862     12900  Wallace Shawn      4       2"
      ]
     },
     "execution_count": 168,
     "metadata": {},
     "output_type": "execute_result"
    }
   ],
   "source": [
    "cast = pd.read_csv('./dataclean/actors.csv')\n",
    "cast.head()"
   ]
  },
  {
   "attachments": {},
   "cell_type": "markdown",
   "metadata": {},
   "source": [
    "Let's explore the cast "
   ]
  },
  {
   "cell_type": "code",
   "execution_count": 169,
   "metadata": {},
   "outputs": [
    {
     "data": {
      "text/plain": [
       "count    111222.000000\n",
       "mean         14.295112\n",
       "std          19.543161\n",
       "min           0.000000\n",
       "25%           4.000000\n",
       "50%           8.000000\n",
       "75%          17.000000\n",
       "max         313.000000\n",
       "Name: order, dtype: float64"
      ]
     },
     "execution_count": 169,
     "metadata": {},
     "output_type": "execute_result"
    }
   ],
   "source": [
    "# stats over the whole dataframe\n",
    "cast.order.describe()"
   ]
  },
  {
   "attachments": {},
   "cell_type": "markdown",
   "metadata": {},
   "source": [
    "50% of the values are below 8, a staggering movie has over 300 credits, let's look further into this "
   ]
  },
  {
   "cell_type": "code",
   "execution_count": 170,
   "metadata": {},
   "outputs": [
    {
     "data": {
      "text/plain": [
       "count    7246.000000\n",
       "mean       14.623654\n",
       "std        14.713386\n",
       "min         0.000000\n",
       "25%         7.000000\n",
       "50%        11.000000\n",
       "75%        17.000000\n",
       "max       313.000000\n",
       "Name: max, dtype: float64"
      ]
     },
     "execution_count": 170,
     "metadata": {},
     "output_type": "execute_result"
    }
   ],
   "source": [
    "cast.groupby('movie_id').order.describe()['max'].describe()"
   ]
  },
  {
   "attachments": {},
   "cell_type": "markdown",
   "metadata": {},
   "source": [
    "As seen in stats, some movies have up to 300 actors credited, yet 50% of the movies have less than 11 actors creditted, now I want to focus on the money makers the drawers to watching the movie, so I am going to cut short to 8 actors."
   ]
  },
  {
   "cell_type": "code",
   "execution_count": 171,
   "metadata": {},
   "outputs": [
    {
     "data": {
      "text/plain": [
       "count    51306.000000\n",
       "mean         3.311153\n",
       "std          2.253398\n",
       "min          0.000000\n",
       "25%          1.000000\n",
       "50%          3.000000\n",
       "75%          5.000000\n",
       "max          7.000000\n",
       "Name: order, dtype: float64"
      ]
     },
     "execution_count": 171,
     "metadata": {},
     "output_type": "execute_result"
    }
   ],
   "source": [
    "cast = cast[cast.order < 8]\n",
    "cast.order.describe()"
   ]
  },
  {
   "cell_type": "code",
   "execution_count": 172,
   "metadata": {},
   "outputs": [
    {
     "name": "stdout",
     "output_type": "stream",
     "text": [
      "(7241, 2)\n"
     ]
    },
    {
     "data": {
      "text/html": [
       "<div>\n",
       "<style scoped>\n",
       "    .dataframe tbody tr th:only-of-type {\n",
       "        vertical-align: middle;\n",
       "    }\n",
       "\n",
       "    .dataframe tbody tr th {\n",
       "        vertical-align: top;\n",
       "    }\n",
       "\n",
       "    .dataframe thead th {\n",
       "        text-align: right;\n",
       "    }\n",
       "</style>\n",
       "<table border=\"1\" class=\"dataframe\">\n",
       "  <thead>\n",
       "    <tr style=\"text-align: right;\">\n",
       "      <th></th>\n",
       "      <th>movie_id</th>\n",
       "      <th>cast</th>\n",
       "    </tr>\n",
       "  </thead>\n",
       "  <tbody>\n",
       "    <tr>\n",
       "      <th>0</th>\n",
       "      <td>2</td>\n",
       "      <td>[Turo Pajala, Susanna Haavisto, Matti Pellonpä...</td>\n",
       "    </tr>\n",
       "    <tr>\n",
       "      <th>1</th>\n",
       "      <td>3</td>\n",
       "      <td>[Matti Pellonpää, Kati Outinen, Sakari Kuosman...</td>\n",
       "    </tr>\n",
       "    <tr>\n",
       "      <th>2</th>\n",
       "      <td>5</td>\n",
       "      <td>[Tim Roth, Antonio Banderas, Jennifer Beals, M...</td>\n",
       "    </tr>\n",
       "    <tr>\n",
       "      <th>3</th>\n",
       "      <td>6</td>\n",
       "      <td>[Emilio Estevez, Cuba Gooding Jr., Denis Leary...</td>\n",
       "    </tr>\n",
       "    <tr>\n",
       "      <th>4</th>\n",
       "      <td>11</td>\n",
       "      <td>[Mark Hamill, Harrison Ford, Carrie Fisher, Pe...</td>\n",
       "    </tr>\n",
       "  </tbody>\n",
       "</table>\n",
       "</div>"
      ],
      "text/plain": [
       "   movie_id                                               cast\n",
       "0         2  [Turo Pajala, Susanna Haavisto, Matti Pellonpä...\n",
       "1         3  [Matti Pellonpää, Kati Outinen, Sakari Kuosman...\n",
       "2         5  [Tim Roth, Antonio Banderas, Jennifer Beals, M...\n",
       "3         6  [Emilio Estevez, Cuba Gooding Jr., Denis Leary...\n",
       "4        11  [Mark Hamill, Harrison Ford, Carrie Fisher, Pe..."
      ]
     },
     "execution_count": 172,
     "metadata": {},
     "output_type": "execute_result"
    }
   ],
   "source": [
    "cast_gp = cast.groupby('movie_id').name.apply(list).reset_index(name='cast')\n",
    "print(cast_gp.shape)\n",
    "cast_gp.head()"
   ]
  },
  {
   "cell_type": "code",
   "execution_count": 173,
   "metadata": {},
   "outputs": [
    {
     "data": {
      "text/html": [
       "<div>\n",
       "<style scoped>\n",
       "    .dataframe tbody tr th:only-of-type {\n",
       "        vertical-align: middle;\n",
       "    }\n",
       "\n",
       "    .dataframe tbody tr th {\n",
       "        vertical-align: top;\n",
       "    }\n",
       "\n",
       "    .dataframe thead th {\n",
       "        text-align: right;\n",
       "    }\n",
       "</style>\n",
       "<table border=\"1\" class=\"dataframe\">\n",
       "  <thead>\n",
       "    <tr style=\"text-align: right;\">\n",
       "      <th></th>\n",
       "      <th>movie_id</th>\n",
       "      <th>keyword_id</th>\n",
       "      <th>keyword</th>\n",
       "    </tr>\n",
       "  </thead>\n",
       "  <tbody>\n",
       "    <tr>\n",
       "      <th>0</th>\n",
       "      <td>862</td>\n",
       "      <td>931</td>\n",
       "      <td>jealousy</td>\n",
       "    </tr>\n",
       "    <tr>\n",
       "      <th>1</th>\n",
       "      <td>862</td>\n",
       "      <td>4290</td>\n",
       "      <td>toy</td>\n",
       "    </tr>\n",
       "    <tr>\n",
       "      <th>2</th>\n",
       "      <td>862</td>\n",
       "      <td>5202</td>\n",
       "      <td>boy</td>\n",
       "    </tr>\n",
       "    <tr>\n",
       "      <th>3</th>\n",
       "      <td>862</td>\n",
       "      <td>6054</td>\n",
       "      <td>friendship</td>\n",
       "    </tr>\n",
       "    <tr>\n",
       "      <th>4</th>\n",
       "      <td>862</td>\n",
       "      <td>9713</td>\n",
       "      <td>friends</td>\n",
       "    </tr>\n",
       "  </tbody>\n",
       "</table>\n",
       "</div>"
      ],
      "text/plain": [
       "   movie_id  keyword_id     keyword\n",
       "0       862         931    jealousy\n",
       "1       862        4290         toy\n",
       "2       862        5202         boy\n",
       "3       862        6054  friendship\n",
       "4       862        9713     friends"
      ]
     },
     "execution_count": 173,
     "metadata": {},
     "output_type": "execute_result"
    }
   ],
   "source": [
    "keywords = pd.read_csv('./dataclean/keywords.csv')\n",
    "keywords.head()"
   ]
  },
  {
   "cell_type": "code",
   "execution_count": 174,
   "metadata": {},
   "outputs": [
    {
     "name": "stdout",
     "output_type": "stream",
     "text": [
      "(5687, 2)\n"
     ]
    },
    {
     "data": {
      "text/html": [
       "<div>\n",
       "<style scoped>\n",
       "    .dataframe tbody tr th:only-of-type {\n",
       "        vertical-align: middle;\n",
       "    }\n",
       "\n",
       "    .dataframe tbody tr th {\n",
       "        vertical-align: top;\n",
       "    }\n",
       "\n",
       "    .dataframe thead th {\n",
       "        text-align: right;\n",
       "    }\n",
       "</style>\n",
       "<table border=\"1\" class=\"dataframe\">\n",
       "  <thead>\n",
       "    <tr style=\"text-align: right;\">\n",
       "      <th></th>\n",
       "      <th>movie_id</th>\n",
       "      <th>keywords</th>\n",
       "    </tr>\n",
       "  </thead>\n",
       "  <tbody>\n",
       "    <tr>\n",
       "      <th>0</th>\n",
       "      <td>2</td>\n",
       "      <td>[underdog, prison, factory worker, prisoner, h...</td>\n",
       "    </tr>\n",
       "    <tr>\n",
       "      <th>1</th>\n",
       "      <td>3</td>\n",
       "      <td>[salesclerk, helsinki, garbage, independent film]</td>\n",
       "    </tr>\n",
       "    <tr>\n",
       "      <th>2</th>\n",
       "      <td>5</td>\n",
       "      <td>[hotel, new year's eve, witch, bet, hotel room...</td>\n",
       "    </tr>\n",
       "    <tr>\n",
       "      <th>3</th>\n",
       "      <td>6</td>\n",
       "      <td>[chicago, drug dealer, boxing match, escape, o...</td>\n",
       "    </tr>\n",
       "    <tr>\n",
       "      <th>4</th>\n",
       "      <td>11</td>\n",
       "      <td>[android, galaxy, hermit, death star, lightsab...</td>\n",
       "    </tr>\n",
       "  </tbody>\n",
       "</table>\n",
       "</div>"
      ],
      "text/plain": [
       "   movie_id                                           keywords\n",
       "0         2  [underdog, prison, factory worker, prisoner, h...\n",
       "1         3  [salesclerk, helsinki, garbage, independent film]\n",
       "2         5  [hotel, new year's eve, witch, bet, hotel room...\n",
       "3         6  [chicago, drug dealer, boxing match, escape, o...\n",
       "4        11  [android, galaxy, hermit, death star, lightsab..."
      ]
     },
     "execution_count": 174,
     "metadata": {},
     "output_type": "execute_result"
    }
   ],
   "source": [
    "keywords_gp = keywords.groupby('movie_id').keyword.apply(list).reset_index(name='keywords')\n",
    "print(keywords_gp.shape)\n",
    "keywords_gp.head()"
   ]
  },
  {
   "cell_type": "code",
   "execution_count": 175,
   "metadata": {},
   "outputs": [
    {
     "data": {
      "text/html": [
       "<div>\n",
       "<style scoped>\n",
       "    .dataframe tbody tr th:only-of-type {\n",
       "        vertical-align: middle;\n",
       "    }\n",
       "\n",
       "    .dataframe tbody tr th {\n",
       "        vertical-align: top;\n",
       "    }\n",
       "\n",
       "    .dataframe thead th {\n",
       "        text-align: right;\n",
       "    }\n",
       "</style>\n",
       "<table border=\"1\" class=\"dataframe\">\n",
       "  <thead>\n",
       "    <tr style=\"text-align: right;\">\n",
       "      <th></th>\n",
       "      <th>movie_id</th>\n",
       "      <th>genre_id</th>\n",
       "      <th>genre</th>\n",
       "    </tr>\n",
       "  </thead>\n",
       "  <tbody>\n",
       "    <tr>\n",
       "      <th>0</th>\n",
       "      <td>862</td>\n",
       "      <td>16</td>\n",
       "      <td>Animation</td>\n",
       "    </tr>\n",
       "    <tr>\n",
       "      <th>1</th>\n",
       "      <td>862</td>\n",
       "      <td>35</td>\n",
       "      <td>Comedy</td>\n",
       "    </tr>\n",
       "    <tr>\n",
       "      <th>2</th>\n",
       "      <td>862</td>\n",
       "      <td>10751</td>\n",
       "      <td>Family</td>\n",
       "    </tr>\n",
       "    <tr>\n",
       "      <th>3</th>\n",
       "      <td>8844</td>\n",
       "      <td>12</td>\n",
       "      <td>Adventure</td>\n",
       "    </tr>\n",
       "    <tr>\n",
       "      <th>4</th>\n",
       "      <td>8844</td>\n",
       "      <td>14</td>\n",
       "      <td>Fantasy</td>\n",
       "    </tr>\n",
       "  </tbody>\n",
       "</table>\n",
       "</div>"
      ],
      "text/plain": [
       "   movie_id  genre_id      genre\n",
       "0       862        16  Animation\n",
       "1       862        35     Comedy\n",
       "2       862     10751     Family\n",
       "3      8844        12  Adventure\n",
       "4      8844        14    Fantasy"
      ]
     },
     "execution_count": 175,
     "metadata": {},
     "output_type": "execute_result"
    }
   ],
   "source": [
    "genres = pd.read_csv('./dataclean/genres.csv')\n",
    "genres.head()"
   ]
  },
  {
   "cell_type": "code",
   "execution_count": 176,
   "metadata": {},
   "outputs": [
    {
     "name": "stdout",
     "output_type": "stream",
     "text": [
      "(7143, 2)\n"
     ]
    },
    {
     "data": {
      "text/html": [
       "<div>\n",
       "<style scoped>\n",
       "    .dataframe tbody tr th:only-of-type {\n",
       "        vertical-align: middle;\n",
       "    }\n",
       "\n",
       "    .dataframe tbody tr th {\n",
       "        vertical-align: top;\n",
       "    }\n",
       "\n",
       "    .dataframe thead th {\n",
       "        text-align: right;\n",
       "    }\n",
       "</style>\n",
       "<table border=\"1\" class=\"dataframe\">\n",
       "  <thead>\n",
       "    <tr style=\"text-align: right;\">\n",
       "      <th></th>\n",
       "      <th>movie_id</th>\n",
       "      <th>genres</th>\n",
       "    </tr>\n",
       "  </thead>\n",
       "  <tbody>\n",
       "    <tr>\n",
       "      <th>0</th>\n",
       "      <td>2</td>\n",
       "      <td>[Drama, Crime]</td>\n",
       "    </tr>\n",
       "    <tr>\n",
       "      <th>1</th>\n",
       "      <td>3</td>\n",
       "      <td>[Drama, Comedy]</td>\n",
       "    </tr>\n",
       "    <tr>\n",
       "      <th>2</th>\n",
       "      <td>5</td>\n",
       "      <td>[Crime, Comedy]</td>\n",
       "    </tr>\n",
       "    <tr>\n",
       "      <th>3</th>\n",
       "      <td>6</td>\n",
       "      <td>[Action, Thriller, Crime]</td>\n",
       "    </tr>\n",
       "    <tr>\n",
       "      <th>4</th>\n",
       "      <td>11</td>\n",
       "      <td>[Adventure, Action, Science Fiction]</td>\n",
       "    </tr>\n",
       "  </tbody>\n",
       "</table>\n",
       "</div>"
      ],
      "text/plain": [
       "   movie_id                                genres\n",
       "0         2                        [Drama, Crime]\n",
       "1         3                       [Drama, Comedy]\n",
       "2         5                       [Crime, Comedy]\n",
       "3         6             [Action, Thriller, Crime]\n",
       "4        11  [Adventure, Action, Science Fiction]"
      ]
     },
     "execution_count": 176,
     "metadata": {},
     "output_type": "execute_result"
    }
   ],
   "source": [
    "genres_gp = genres.groupby('movie_id').genre.apply(list).reset_index(name= 'genres')\n",
    "print(genres_gp.shape)\n",
    "genres_gp.head()"
   ]
  },
  {
   "cell_type": "code",
   "execution_count": 177,
   "metadata": {},
   "outputs": [],
   "source": [
    "genres_gp.to_csv('./dataclean/genres_group.csv')"
   ]
  },
  {
   "cell_type": "code",
   "execution_count": 178,
   "metadata": {},
   "outputs": [
    {
     "name": "stdout",
     "output_type": "stream",
     "text": [
      "(7474, 3)\n"
     ]
    },
    {
     "data": {
      "text/html": [
       "<div>\n",
       "<style scoped>\n",
       "    .dataframe tbody tr th:only-of-type {\n",
       "        vertical-align: middle;\n",
       "    }\n",
       "\n",
       "    .dataframe tbody tr th {\n",
       "        vertical-align: top;\n",
       "    }\n",
       "\n",
       "    .dataframe thead th {\n",
       "        text-align: right;\n",
       "    }\n",
       "</style>\n",
       "<table border=\"1\" class=\"dataframe\">\n",
       "  <thead>\n",
       "    <tr style=\"text-align: right;\">\n",
       "      <th></th>\n",
       "      <th>movie_id</th>\n",
       "      <th>cast</th>\n",
       "      <th>directors</th>\n",
       "    </tr>\n",
       "  </thead>\n",
       "  <tbody>\n",
       "    <tr>\n",
       "      <th>0</th>\n",
       "      <td>2</td>\n",
       "      <td>[Turo Pajala, Susanna Haavisto, Matti Pellonpä...</td>\n",
       "      <td>[Aki Kaurismäki]</td>\n",
       "    </tr>\n",
       "    <tr>\n",
       "      <th>1</th>\n",
       "      <td>3</td>\n",
       "      <td>[Matti Pellonpää, Kati Outinen, Sakari Kuosman...</td>\n",
       "      <td>[Aki Kaurismäki]</td>\n",
       "    </tr>\n",
       "    <tr>\n",
       "      <th>2</th>\n",
       "      <td>5</td>\n",
       "      <td>[Tim Roth, Antonio Banderas, Jennifer Beals, M...</td>\n",
       "      <td>[Allison Anders, Alexandre Rockwell, Robert Ro...</td>\n",
       "    </tr>\n",
       "    <tr>\n",
       "      <th>3</th>\n",
       "      <td>6</td>\n",
       "      <td>[Emilio Estevez, Cuba Gooding Jr., Denis Leary...</td>\n",
       "      <td>[Stephen Hopkins]</td>\n",
       "    </tr>\n",
       "    <tr>\n",
       "      <th>4</th>\n",
       "      <td>11</td>\n",
       "      <td>[Mark Hamill, Harrison Ford, Carrie Fisher, Pe...</td>\n",
       "      <td>[George Lucas]</td>\n",
       "    </tr>\n",
       "  </tbody>\n",
       "</table>\n",
       "</div>"
      ],
      "text/plain": [
       "   movie_id                                               cast  \\\n",
       "0         2  [Turo Pajala, Susanna Haavisto, Matti Pellonpä...   \n",
       "1         3  [Matti Pellonpää, Kati Outinen, Sakari Kuosman...   \n",
       "2         5  [Tim Roth, Antonio Banderas, Jennifer Beals, M...   \n",
       "3         6  [Emilio Estevez, Cuba Gooding Jr., Denis Leary...   \n",
       "4        11  [Mark Hamill, Harrison Ford, Carrie Fisher, Pe...   \n",
       "\n",
       "                                           directors  \n",
       "0                                   [Aki Kaurismäki]  \n",
       "1                                   [Aki Kaurismäki]  \n",
       "2  [Allison Anders, Alexandre Rockwell, Robert Ro...  \n",
       "3                                  [Stephen Hopkins]  \n",
       "4                                     [George Lucas]  "
      ]
     },
     "execution_count": 178,
     "metadata": {},
     "output_type": "execute_result"
    }
   ],
   "source": [
    "movies_gp = pd.merge(cast_gp, directors_gp, on= 'movie_id', how= 'outer')\n",
    "print(movies_gp.shape)\n",
    "movies_gp.head()"
   ]
  },
  {
   "cell_type": "code",
   "execution_count": 179,
   "metadata": {},
   "outputs": [
    {
     "data": {
      "text/html": [
       "<div>\n",
       "<style scoped>\n",
       "    .dataframe tbody tr th:only-of-type {\n",
       "        vertical-align: middle;\n",
       "    }\n",
       "\n",
       "    .dataframe tbody tr th {\n",
       "        vertical-align: top;\n",
       "    }\n",
       "\n",
       "    .dataframe thead th {\n",
       "        text-align: right;\n",
       "    }\n",
       "</style>\n",
       "<table border=\"1\" class=\"dataframe\">\n",
       "  <thead>\n",
       "    <tr style=\"text-align: right;\">\n",
       "      <th></th>\n",
       "      <th>movie_id</th>\n",
       "      <th>keywords</th>\n",
       "      <th>genres</th>\n",
       "    </tr>\n",
       "  </thead>\n",
       "  <tbody>\n",
       "    <tr>\n",
       "      <th>0</th>\n",
       "      <td>2</td>\n",
       "      <td>[underdog, prison, factory worker, prisoner, h...</td>\n",
       "      <td>[Drama, Crime]</td>\n",
       "    </tr>\n",
       "    <tr>\n",
       "      <th>1</th>\n",
       "      <td>3</td>\n",
       "      <td>[salesclerk, helsinki, garbage, independent film]</td>\n",
       "      <td>[Drama, Comedy]</td>\n",
       "    </tr>\n",
       "    <tr>\n",
       "      <th>2</th>\n",
       "      <td>5</td>\n",
       "      <td>[hotel, new year's eve, witch, bet, hotel room...</td>\n",
       "      <td>[Crime, Comedy]</td>\n",
       "    </tr>\n",
       "    <tr>\n",
       "      <th>3</th>\n",
       "      <td>6</td>\n",
       "      <td>[chicago, drug dealer, boxing match, escape, o...</td>\n",
       "      <td>[Action, Thriller, Crime]</td>\n",
       "    </tr>\n",
       "    <tr>\n",
       "      <th>4</th>\n",
       "      <td>11</td>\n",
       "      <td>[android, galaxy, hermit, death star, lightsab...</td>\n",
       "      <td>[Adventure, Action, Science Fiction]</td>\n",
       "    </tr>\n",
       "  </tbody>\n",
       "</table>\n",
       "</div>"
      ],
      "text/plain": [
       "   movie_id                                           keywords  \\\n",
       "0         2  [underdog, prison, factory worker, prisoner, h...   \n",
       "1         3  [salesclerk, helsinki, garbage, independent film]   \n",
       "2         5  [hotel, new year's eve, witch, bet, hotel room...   \n",
       "3         6  [chicago, drug dealer, boxing match, escape, o...   \n",
       "4        11  [android, galaxy, hermit, death star, lightsab...   \n",
       "\n",
       "                                 genres  \n",
       "0                        [Drama, Crime]  \n",
       "1                       [Drama, Comedy]  \n",
       "2                       [Crime, Comedy]  \n",
       "3             [Action, Thriller, Crime]  \n",
       "4  [Adventure, Action, Science Fiction]  "
      ]
     },
     "execution_count": 179,
     "metadata": {},
     "output_type": "execute_result"
    }
   ],
   "source": [
    "temp = pd.merge(keywords_gp, genres_gp, on= 'movie_id', how= 'left')\n",
    "temp.head()"
   ]
  },
  {
   "cell_type": "code",
   "execution_count": 180,
   "metadata": {},
   "outputs": [
    {
     "data": {
      "text/html": [
       "<div>\n",
       "<style scoped>\n",
       "    .dataframe tbody tr th:only-of-type {\n",
       "        vertical-align: middle;\n",
       "    }\n",
       "\n",
       "    .dataframe tbody tr th {\n",
       "        vertical-align: top;\n",
       "    }\n",
       "\n",
       "    .dataframe thead th {\n",
       "        text-align: right;\n",
       "    }\n",
       "</style>\n",
       "<table border=\"1\" class=\"dataframe\">\n",
       "  <thead>\n",
       "    <tr style=\"text-align: right;\">\n",
       "      <th></th>\n",
       "      <th>movie_id</th>\n",
       "      <th>keywords</th>\n",
       "      <th>genres</th>\n",
       "      <th>title</th>\n",
       "      <th>vote_average</th>\n",
       "    </tr>\n",
       "  </thead>\n",
       "  <tbody>\n",
       "    <tr>\n",
       "      <th>0</th>\n",
       "      <td>2</td>\n",
       "      <td>[underdog, prison, factory worker, prisoner, h...</td>\n",
       "      <td>[Drama, Crime]</td>\n",
       "      <td>Ariel</td>\n",
       "      <td>7.1</td>\n",
       "    </tr>\n",
       "    <tr>\n",
       "      <th>1</th>\n",
       "      <td>3</td>\n",
       "      <td>[salesclerk, helsinki, garbage, independent film]</td>\n",
       "      <td>[Drama, Comedy]</td>\n",
       "      <td>Varjoja paratiisissa</td>\n",
       "      <td>7.1</td>\n",
       "    </tr>\n",
       "    <tr>\n",
       "      <th>2</th>\n",
       "      <td>5</td>\n",
       "      <td>[hotel, new year's eve, witch, bet, hotel room...</td>\n",
       "      <td>[Crime, Comedy]</td>\n",
       "      <td>Four Rooms</td>\n",
       "      <td>6.5</td>\n",
       "    </tr>\n",
       "    <tr>\n",
       "      <th>3</th>\n",
       "      <td>6</td>\n",
       "      <td>[chicago, drug dealer, boxing match, escape, o...</td>\n",
       "      <td>[Action, Thriller, Crime]</td>\n",
       "      <td>Judgment Night</td>\n",
       "      <td>6.4</td>\n",
       "    </tr>\n",
       "    <tr>\n",
       "      <th>4</th>\n",
       "      <td>11</td>\n",
       "      <td>[android, galaxy, hermit, death star, lightsab...</td>\n",
       "      <td>[Adventure, Action, Science Fiction]</td>\n",
       "      <td>Star Wars</td>\n",
       "      <td>8.1</td>\n",
       "    </tr>\n",
       "  </tbody>\n",
       "</table>\n",
       "</div>"
      ],
      "text/plain": [
       "   movie_id                                           keywords  \\\n",
       "0         2  [underdog, prison, factory worker, prisoner, h...   \n",
       "1         3  [salesclerk, helsinki, garbage, independent film]   \n",
       "2         5  [hotel, new year's eve, witch, bet, hotel room...   \n",
       "3         6  [chicago, drug dealer, boxing match, escape, o...   \n",
       "4        11  [android, galaxy, hermit, death star, lightsab...   \n",
       "\n",
       "                                 genres                 title  vote_average  \n",
       "0                        [Drama, Crime]                 Ariel           7.1  \n",
       "1                       [Drama, Comedy]  Varjoja paratiisissa           7.1  \n",
       "2                       [Crime, Comedy]            Four Rooms           6.5  \n",
       "3             [Action, Thriller, Crime]        Judgment Night           6.4  \n",
       "4  [Adventure, Action, Science Fiction]             Star Wars           8.1  "
      ]
     },
     "execution_count": 180,
     "metadata": {},
     "output_type": "execute_result"
    }
   ],
   "source": [
    "temp = pd.merge(temp, movie_df[['movie_id', 'title', 'vote_average']], on='movie_id', how='outer')\n",
    "temp.head()"
   ]
  },
  {
   "cell_type": "code",
   "execution_count": 181,
   "metadata": {},
   "outputs": [
    {
     "data": {
      "text/html": [
       "<div>\n",
       "<style scoped>\n",
       "    .dataframe tbody tr th:only-of-type {\n",
       "        vertical-align: middle;\n",
       "    }\n",
       "\n",
       "    .dataframe tbody tr th {\n",
       "        vertical-align: top;\n",
       "    }\n",
       "\n",
       "    .dataframe thead th {\n",
       "        text-align: right;\n",
       "    }\n",
       "</style>\n",
       "<table border=\"1\" class=\"dataframe\">\n",
       "  <thead>\n",
       "    <tr style=\"text-align: right;\">\n",
       "      <th></th>\n",
       "      <th>movie_id</th>\n",
       "      <th>cast</th>\n",
       "      <th>directors</th>\n",
       "      <th>keywords</th>\n",
       "      <th>genres</th>\n",
       "      <th>title</th>\n",
       "      <th>vote_average</th>\n",
       "    </tr>\n",
       "  </thead>\n",
       "  <tbody>\n",
       "    <tr>\n",
       "      <th>0</th>\n",
       "      <td>2</td>\n",
       "      <td>[Turo Pajala, Susanna Haavisto, Matti Pellonpä...</td>\n",
       "      <td>[Aki Kaurismäki]</td>\n",
       "      <td>[underdog, prison, factory worker, prisoner, h...</td>\n",
       "      <td>[Drama, Crime]</td>\n",
       "      <td>Ariel</td>\n",
       "      <td>7.1</td>\n",
       "    </tr>\n",
       "    <tr>\n",
       "      <th>1</th>\n",
       "      <td>3</td>\n",
       "      <td>[Matti Pellonpää, Kati Outinen, Sakari Kuosman...</td>\n",
       "      <td>[Aki Kaurismäki]</td>\n",
       "      <td>[salesclerk, helsinki, garbage, independent film]</td>\n",
       "      <td>[Drama, Comedy]</td>\n",
       "      <td>Varjoja paratiisissa</td>\n",
       "      <td>7.1</td>\n",
       "    </tr>\n",
       "    <tr>\n",
       "      <th>2</th>\n",
       "      <td>5</td>\n",
       "      <td>[Tim Roth, Antonio Banderas, Jennifer Beals, M...</td>\n",
       "      <td>[Allison Anders, Alexandre Rockwell, Robert Ro...</td>\n",
       "      <td>[hotel, new year's eve, witch, bet, hotel room...</td>\n",
       "      <td>[Crime, Comedy]</td>\n",
       "      <td>Four Rooms</td>\n",
       "      <td>6.5</td>\n",
       "    </tr>\n",
       "    <tr>\n",
       "      <th>3</th>\n",
       "      <td>6</td>\n",
       "      <td>[Emilio Estevez, Cuba Gooding Jr., Denis Leary...</td>\n",
       "      <td>[Stephen Hopkins]</td>\n",
       "      <td>[chicago, drug dealer, boxing match, escape, o...</td>\n",
       "      <td>[Action, Thriller, Crime]</td>\n",
       "      <td>Judgment Night</td>\n",
       "      <td>6.4</td>\n",
       "    </tr>\n",
       "    <tr>\n",
       "      <th>4</th>\n",
       "      <td>11</td>\n",
       "      <td>[Mark Hamill, Harrison Ford, Carrie Fisher, Pe...</td>\n",
       "      <td>[George Lucas]</td>\n",
       "      <td>[android, galaxy, hermit, death star, lightsab...</td>\n",
       "      <td>[Adventure, Action, Science Fiction]</td>\n",
       "      <td>Star Wars</td>\n",
       "      <td>8.1</td>\n",
       "    </tr>\n",
       "  </tbody>\n",
       "</table>\n",
       "</div>"
      ],
      "text/plain": [
       "   movie_id                                               cast  \\\n",
       "0         2  [Turo Pajala, Susanna Haavisto, Matti Pellonpä...   \n",
       "1         3  [Matti Pellonpää, Kati Outinen, Sakari Kuosman...   \n",
       "2         5  [Tim Roth, Antonio Banderas, Jennifer Beals, M...   \n",
       "3         6  [Emilio Estevez, Cuba Gooding Jr., Denis Leary...   \n",
       "4        11  [Mark Hamill, Harrison Ford, Carrie Fisher, Pe...   \n",
       "\n",
       "                                           directors  \\\n",
       "0                                   [Aki Kaurismäki]   \n",
       "1                                   [Aki Kaurismäki]   \n",
       "2  [Allison Anders, Alexandre Rockwell, Robert Ro...   \n",
       "3                                  [Stephen Hopkins]   \n",
       "4                                     [George Lucas]   \n",
       "\n",
       "                                            keywords  \\\n",
       "0  [underdog, prison, factory worker, prisoner, h...   \n",
       "1  [salesclerk, helsinki, garbage, independent film]   \n",
       "2  [hotel, new year's eve, witch, bet, hotel room...   \n",
       "3  [chicago, drug dealer, boxing match, escape, o...   \n",
       "4  [android, galaxy, hermit, death star, lightsab...   \n",
       "\n",
       "                                 genres                 title  vote_average  \n",
       "0                        [Drama, Crime]                 Ariel           7.1  \n",
       "1                       [Drama, Comedy]  Varjoja paratiisissa           7.1  \n",
       "2                       [Crime, Comedy]            Four Rooms           6.5  \n",
       "3             [Action, Thriller, Crime]        Judgment Night           6.4  \n",
       "4  [Adventure, Action, Science Fiction]             Star Wars           8.1  "
      ]
     },
     "execution_count": 181,
     "metadata": {},
     "output_type": "execute_result"
    }
   ],
   "source": [
    "movies_gp = pd.merge(movies_gp, temp, on= 'movie_id', how= 'outer')\n",
    "movies_gp.head()"
   ]
  },
  {
   "cell_type": "code",
   "execution_count": 182,
   "metadata": {},
   "outputs": [
    {
     "data": {
      "text/plain": [
       "movie_id           0\n",
       "cast             260\n",
       "directors         72\n",
       "keywords        1814\n",
       "genres          1887\n",
       "title              6\n",
       "vote_average       6\n",
       "dtype: int64"
      ]
     },
     "execution_count": 182,
     "metadata": {},
     "output_type": "execute_result"
    }
   ],
   "source": [
    "movies_gp.isna().sum()"
   ]
  },
  {
   "attachments": {},
   "cell_type": "markdown",
   "metadata": {},
   "source": [
    "how='outer': This parameter specifies the type of join to perform. In this case, an outer join is used. An outer join returns all rows from both DataFrames, filling in missing values with NaN where the data is absent in either DataFrame.\n",
    "\n",
    "how='left': This parameter specifies the type of join to perform. In this case, a left join is used. A left join returns all rows from the left DataFrame (cast_gp) and the matched rows from the right DataFrame (directors_gp). If a row in the left DataFrame doesn't have a match in the right DataFrame, the resulting row will contain NaN values for the columns from the right DataFrame."
   ]
  },
  {
   "cell_type": "code",
   "execution_count": 183,
   "metadata": {},
   "outputs": [],
   "source": [
    "# Function to convert all strings to lower case and strip names of spaces\n",
    "def clean_data(x):\n",
    "    # should leave nulls alone\n",
    "    if isinstance(x, list):\n",
    "        return [str.lower(i.replace(\" \", \"\")) for i in x]"
   ]
  },
  {
   "cell_type": "code",
   "execution_count": 184,
   "metadata": {},
   "outputs": [],
   "source": [
    "# Apply clean_data function to your features.\n",
    "features = ['cast', 'keywords', 'directors', 'genres']\n",
    "\n",
    "for feature in features:\n",
    "    movies_gp[feature] = movies_gp[feature].apply(clean_data)"
   ]
  },
  {
   "cell_type": "code",
   "execution_count": 185,
   "metadata": {},
   "outputs": [
    {
     "data": {
      "text/html": [
       "<div>\n",
       "<style scoped>\n",
       "    .dataframe tbody tr th:only-of-type {\n",
       "        vertical-align: middle;\n",
       "    }\n",
       "\n",
       "    .dataframe tbody tr th {\n",
       "        vertical-align: top;\n",
       "    }\n",
       "\n",
       "    .dataframe thead th {\n",
       "        text-align: right;\n",
       "    }\n",
       "</style>\n",
       "<table border=\"1\" class=\"dataframe\">\n",
       "  <thead>\n",
       "    <tr style=\"text-align: right;\">\n",
       "      <th></th>\n",
       "      <th>movie_id</th>\n",
       "      <th>cast</th>\n",
       "      <th>directors</th>\n",
       "      <th>keywords</th>\n",
       "      <th>genres</th>\n",
       "      <th>title</th>\n",
       "      <th>vote_average</th>\n",
       "    </tr>\n",
       "  </thead>\n",
       "  <tbody>\n",
       "    <tr>\n",
       "      <th>0</th>\n",
       "      <td>2</td>\n",
       "      <td>[turopajala, susannahaavisto, mattipellonpää, ...</td>\n",
       "      <td>[akikaurismäki]</td>\n",
       "      <td>[underdog, prison, factoryworker, prisoner, he...</td>\n",
       "      <td>[drama, crime]</td>\n",
       "      <td>Ariel</td>\n",
       "      <td>7.1</td>\n",
       "    </tr>\n",
       "    <tr>\n",
       "      <th>1</th>\n",
       "      <td>3</td>\n",
       "      <td>[mattipellonpää, katioutinen, sakarikuosmanen,...</td>\n",
       "      <td>[akikaurismäki]</td>\n",
       "      <td>[salesclerk, helsinki, garbage, independentfilm]</td>\n",
       "      <td>[drama, comedy]</td>\n",
       "      <td>Varjoja paratiisissa</td>\n",
       "      <td>7.1</td>\n",
       "    </tr>\n",
       "  </tbody>\n",
       "</table>\n",
       "</div>"
      ],
      "text/plain": [
       "   movie_id                                               cast  \\\n",
       "0         2  [turopajala, susannahaavisto, mattipellonpää, ...   \n",
       "1         3  [mattipellonpää, katioutinen, sakarikuosmanen,...   \n",
       "\n",
       "         directors                                           keywords  \\\n",
       "0  [akikaurismäki]  [underdog, prison, factoryworker, prisoner, he...   \n",
       "1  [akikaurismäki]   [salesclerk, helsinki, garbage, independentfilm]   \n",
       "\n",
       "            genres                 title  vote_average  \n",
       "0   [drama, crime]                 Ariel           7.1  \n",
       "1  [drama, comedy]  Varjoja paratiisissa           7.1  "
      ]
     },
     "execution_count": 185,
     "metadata": {},
     "output_type": "execute_result"
    }
   ],
   "source": [
    "movies_gp.head(2)"
   ]
  },
  {
   "cell_type": "code",
   "execution_count": 186,
   "metadata": {},
   "outputs": [],
   "source": [
    "# Eliminate NA values for soup to work\n",
    "features = ['cast', 'keywords', 'directors', 'genres']\n",
    "for att in features:\n",
    "    movies_gp[att] = movies_gp[att].fillna('')"
   ]
  },
  {
   "cell_type": "code",
   "execution_count": 187,
   "metadata": {},
   "outputs": [
    {
     "data": {
      "text/plain": [
       "movie_id        0\n",
       "cast            0\n",
       "directors       0\n",
       "keywords        0\n",
       "genres          0\n",
       "title           6\n",
       "vote_average    6\n",
       "dtype: int64"
      ]
     },
     "execution_count": 187,
     "metadata": {},
     "output_type": "execute_result"
    }
   ],
   "source": [
    "movies_gp.isna().sum()"
   ]
  },
  {
   "cell_type": "code",
   "execution_count": 188,
   "metadata": {},
   "outputs": [],
   "source": [
    "movies_gp.dropna(inplace= True)"
   ]
  },
  {
   "cell_type": "code",
   "execution_count": 189,
   "metadata": {},
   "outputs": [],
   "source": [
    "# Function joins the words in each list \n",
    "def create_soup(x):\n",
    "    return ' '.join(x['keywords']) + ' ' + ' '.join(x['cast']) + ' ' + ' '.join(x['directors']) + ' ' + ' '.join(x['genres'])"
   ]
  },
  {
   "cell_type": "code",
   "execution_count": 190,
   "metadata": {},
   "outputs": [],
   "source": [
    "movies_gp['soup'] = movies_gp.apply(create_soup, axis= 1)"
   ]
  },
  {
   "cell_type": "code",
   "execution_count": 191,
   "metadata": {},
   "outputs": [
    {
     "data": {
      "text/html": [
       "<div>\n",
       "<style scoped>\n",
       "    .dataframe tbody tr th:only-of-type {\n",
       "        vertical-align: middle;\n",
       "    }\n",
       "\n",
       "    .dataframe tbody tr th {\n",
       "        vertical-align: top;\n",
       "    }\n",
       "\n",
       "    .dataframe thead th {\n",
       "        text-align: right;\n",
       "    }\n",
       "</style>\n",
       "<table border=\"1\" class=\"dataframe\">\n",
       "  <thead>\n",
       "    <tr style=\"text-align: right;\">\n",
       "      <th></th>\n",
       "      <th>movie_id</th>\n",
       "      <th>cast</th>\n",
       "      <th>directors</th>\n",
       "      <th>keywords</th>\n",
       "      <th>genres</th>\n",
       "      <th>title</th>\n",
       "      <th>vote_average</th>\n",
       "      <th>soup</th>\n",
       "    </tr>\n",
       "  </thead>\n",
       "  <tbody>\n",
       "    <tr>\n",
       "      <th>0</th>\n",
       "      <td>2</td>\n",
       "      <td>[turopajala, susannahaavisto, mattipellonpää, ...</td>\n",
       "      <td>[akikaurismäki]</td>\n",
       "      <td>[underdog, prison, factoryworker, prisoner, he...</td>\n",
       "      <td>[drama, crime]</td>\n",
       "      <td>Ariel</td>\n",
       "      <td>7.1</td>\n",
       "      <td>underdog prison factoryworker prisoner helsink...</td>\n",
       "    </tr>\n",
       "    <tr>\n",
       "      <th>1</th>\n",
       "      <td>3</td>\n",
       "      <td>[mattipellonpää, katioutinen, sakarikuosmanen,...</td>\n",
       "      <td>[akikaurismäki]</td>\n",
       "      <td>[salesclerk, helsinki, garbage, independentfilm]</td>\n",
       "      <td>[drama, comedy]</td>\n",
       "      <td>Varjoja paratiisissa</td>\n",
       "      <td>7.1</td>\n",
       "      <td>salesclerk helsinki garbage independentfilm ma...</td>\n",
       "    </tr>\n",
       "  </tbody>\n",
       "</table>\n",
       "</div>"
      ],
      "text/plain": [
       "   movie_id                                               cast  \\\n",
       "0         2  [turopajala, susannahaavisto, mattipellonpää, ...   \n",
       "1         3  [mattipellonpää, katioutinen, sakarikuosmanen,...   \n",
       "\n",
       "         directors                                           keywords  \\\n",
       "0  [akikaurismäki]  [underdog, prison, factoryworker, prisoner, he...   \n",
       "1  [akikaurismäki]   [salesclerk, helsinki, garbage, independentfilm]   \n",
       "\n",
       "            genres                 title  vote_average  \\\n",
       "0   [drama, crime]                 Ariel           7.1   \n",
       "1  [drama, comedy]  Varjoja paratiisissa           7.1   \n",
       "\n",
       "                                                soup  \n",
       "0  underdog prison factoryworker prisoner helsink...  \n",
       "1  salesclerk helsinki garbage independentfilm ma...  "
      ]
     },
     "execution_count": 191,
     "metadata": {},
     "output_type": "execute_result"
    }
   ],
   "source": [
    "movies_gp.head(2)"
   ]
  },
  {
   "cell_type": "code",
   "execution_count": 192,
   "metadata": {},
   "outputs": [],
   "source": [
    "movies_gp.vote_average = movies_gp.vote_average.astype(float)"
   ]
  },
  {
   "attachments": {},
   "cell_type": "markdown",
   "metadata": {},
   "source": [
    "Counting the frequency of each word in each movie"
   ]
  },
  {
   "cell_type": "code",
   "execution_count": 193,
   "metadata": {},
   "outputs": [],
   "source": [
    "from sklearn.feature_extraction.text import CountVectorizer\n",
    "\n",
    "count = CountVectorizer(stop_words='english')\n",
    "count_matrix = count.fit_transform(movies_gp['soup'])"
   ]
  },
  {
   "cell_type": "code",
   "execution_count": 194,
   "metadata": {},
   "outputs": [
    {
     "data": {
      "text/plain": [
       "(7495, 43427)"
      ]
     },
     "execution_count": 194,
     "metadata": {},
     "output_type": "execute_result"
    }
   ],
   "source": [
    "count_matrix.shape"
   ]
  },
  {
   "attachments": {},
   "cell_type": "markdown",
   "metadata": {},
   "source": [
    "There are nearly 40k unique features in these movies"
   ]
  },
  {
   "attachments": {},
   "cell_type": "markdown",
   "metadata": {},
   "source": [
    "Cosine similarity is the angle between two vectors, if two vectors have similar directions on a 2D grid, the angle between them gets smaller and the cosine of it nears 1"
   ]
  },
  {
   "cell_type": "code",
   "execution_count": 195,
   "metadata": {},
   "outputs": [],
   "source": [
    "# Compute the Cosine Similarity matrix based on the count_matrix\n",
    "from sklearn.metrics.pairwise import cosine_similarity\n",
    "\n",
    "cosine_sim = cosine_similarity(count_matrix, count_matrix)"
   ]
  },
  {
   "cell_type": "code",
   "execution_count": 196,
   "metadata": {},
   "outputs": [
    {
     "data": {
      "text/plain": [
       "(7495, 7495)"
      ]
     },
     "execution_count": 196,
     "metadata": {},
     "output_type": "execute_result"
    }
   ],
   "source": [
    "cosine_sim.shape"
   ]
  },
  {
   "cell_type": "code",
   "execution_count": 197,
   "metadata": {},
   "outputs": [
    {
     "data": {
      "text/html": [
       "<div>\n",
       "<style scoped>\n",
       "    .dataframe tbody tr th:only-of-type {\n",
       "        vertical-align: middle;\n",
       "    }\n",
       "\n",
       "    .dataframe tbody tr th {\n",
       "        vertical-align: top;\n",
       "    }\n",
       "\n",
       "    .dataframe thead th {\n",
       "        text-align: right;\n",
       "    }\n",
       "</style>\n",
       "<table border=\"1\" class=\"dataframe\">\n",
       "  <thead>\n",
       "    <tr style=\"text-align: right;\">\n",
       "      <th></th>\n",
       "      <th>movie_id</th>\n",
       "      <th>title</th>\n",
       "      <th>release_date</th>\n",
       "      <th>popularity</th>\n",
       "      <th>budget</th>\n",
       "      <th>revenue</th>\n",
       "      <th>vote_average</th>\n",
       "      <th>vote_count</th>\n",
       "      <th>rating_avg</th>\n",
       "      <th>rating_count</th>\n",
       "      <th>release_year</th>\n",
       "    </tr>\n",
       "  </thead>\n",
       "  <tbody>\n",
       "    <tr>\n",
       "      <th>0</th>\n",
       "      <td>862</td>\n",
       "      <td>Toy Story</td>\n",
       "      <td>1995-10-30</td>\n",
       "      <td>21.946943</td>\n",
       "      <td>30000000</td>\n",
       "      <td>373554033.0</td>\n",
       "      <td>7.7</td>\n",
       "      <td>5415.0</td>\n",
       "      <td>3.60</td>\n",
       "      <td>374</td>\n",
       "      <td>1995</td>\n",
       "    </tr>\n",
       "    <tr>\n",
       "      <th>870</th>\n",
       "      <td>25898</td>\n",
       "      <td>Babes in Toyland</td>\n",
       "      <td>1934-12-14</td>\n",
       "      <td>7.768271</td>\n",
       "      <td>0</td>\n",
       "      <td>0.0</td>\n",
       "      <td>6.6</td>\n",
       "      <td>28.0</td>\n",
       "      <td>3.88</td>\n",
       "      <td>184</td>\n",
       "      <td>1934</td>\n",
       "    </tr>\n",
       "    <tr>\n",
       "      <th>3565</th>\n",
       "      <td>26962</td>\n",
       "      <td>Puppet Master vs Demonic Toys</td>\n",
       "      <td>2004-12-18</td>\n",
       "      <td>1.945492</td>\n",
       "      <td>0</td>\n",
       "      <td>0.0</td>\n",
       "      <td>2.7</td>\n",
       "      <td>12.0</td>\n",
       "      <td>3.08</td>\n",
       "      <td>6</td>\n",
       "      <td>2004</td>\n",
       "    </tr>\n",
       "    <tr>\n",
       "      <th>3655</th>\n",
       "      <td>47670</td>\n",
       "      <td>The Christmas Toy</td>\n",
       "      <td>1986-12-06</td>\n",
       "      <td>0.923952</td>\n",
       "      <td>0</td>\n",
       "      <td>0.0</td>\n",
       "      <td>4.8</td>\n",
       "      <td>7.0</td>\n",
       "      <td>3.64</td>\n",
       "      <td>45</td>\n",
       "      <td>1986</td>\n",
       "    </tr>\n",
       "    <tr>\n",
       "      <th>3769</th>\n",
       "      <td>108869</td>\n",
       "      <td>Toys in the Attic</td>\n",
       "      <td>1963-07-31</td>\n",
       "      <td>0.925414</td>\n",
       "      <td>0</td>\n",
       "      <td>0.0</td>\n",
       "      <td>7.5</td>\n",
       "      <td>2.0</td>\n",
       "      <td>2.17</td>\n",
       "      <td>3</td>\n",
       "      <td>1963</td>\n",
       "    </tr>\n",
       "    <tr>\n",
       "      <th>4751</th>\n",
       "      <td>84152</td>\n",
       "      <td>Dollman vs. Demonic Toys</td>\n",
       "      <td>1993-10-13</td>\n",
       "      <td>1.050160</td>\n",
       "      <td>0</td>\n",
       "      <td>0.0</td>\n",
       "      <td>4.2</td>\n",
       "      <td>12.0</td>\n",
       "      <td>3.85</td>\n",
       "      <td>8025</td>\n",
       "      <td>1993</td>\n",
       "    </tr>\n",
       "    <tr>\n",
       "      <th>5215</th>\n",
       "      <td>70984</td>\n",
       "      <td>Silent Night, Deadly Night 5: The Toy Maker</td>\n",
       "      <td>1991-11-06</td>\n",
       "      <td>1.240357</td>\n",
       "      <td>0</td>\n",
       "      <td>0.0</td>\n",
       "      <td>5.1</td>\n",
       "      <td>11.0</td>\n",
       "      <td>3.29</td>\n",
       "      <td>328</td>\n",
       "      <td>1991</td>\n",
       "    </tr>\n",
       "  </tbody>\n",
       "</table>\n",
       "</div>"
      ],
      "text/plain": [
       "      movie_id                                        title release_date  \\\n",
       "0          862                                    Toy Story   1995-10-30   \n",
       "870      25898                             Babes in Toyland   1934-12-14   \n",
       "3565     26962                Puppet Master vs Demonic Toys   2004-12-18   \n",
       "3655     47670                            The Christmas Toy   1986-12-06   \n",
       "3769    108869                            Toys in the Attic   1963-07-31   \n",
       "4751     84152                     Dollman vs. Demonic Toys   1993-10-13   \n",
       "5215     70984  Silent Night, Deadly Night 5: The Toy Maker   1991-11-06   \n",
       "\n",
       "      popularity    budget      revenue  vote_average  vote_count  rating_avg  \\\n",
       "0      21.946943  30000000  373554033.0           7.7      5415.0        3.60   \n",
       "870     7.768271         0          0.0           6.6        28.0        3.88   \n",
       "3565    1.945492         0          0.0           2.7        12.0        3.08   \n",
       "3655    0.923952         0          0.0           4.8         7.0        3.64   \n",
       "3769    0.925414         0          0.0           7.5         2.0        2.17   \n",
       "4751    1.050160         0          0.0           4.2        12.0        3.85   \n",
       "5215    1.240357         0          0.0           5.1        11.0        3.29   \n",
       "\n",
       "      rating_count  release_year  \n",
       "0              374          1995  \n",
       "870            184          1934  \n",
       "3565             6          2004  \n",
       "3655            45          1986  \n",
       "3769             3          1963  \n",
       "4751          8025          1993  \n",
       "5215           328          1991  "
      ]
     },
     "execution_count": 197,
     "metadata": {},
     "output_type": "execute_result"
    }
   ],
   "source": [
    "# Getting a title of a movie \n",
    "movie_df[movie_df.title.str.contains('Toy')]"
   ]
  },
  {
   "cell_type": "code",
   "execution_count": 198,
   "metadata": {},
   "outputs": [],
   "source": [
    "# Construct a reverse map of indices and movie titles\n",
    "movie_bytitle = pd.Series(movies_gp.index, index=movies_gp['title'])"
   ]
  },
  {
   "cell_type": "code",
   "execution_count": 199,
   "metadata": {},
   "outputs": [],
   "source": [
    "def get_similar_movies(title, n= 10):\n",
    "    idx = movie_bytitle[title]\n",
    "\n",
    "    sim_scores = list(enumerate(cosine_sim[idx]))\n",
    "\n",
    "    # Sort the movies based on the similarity scores\n",
    "    sim_scores = sorted(sim_scores, key=lambda x: x[1], reverse=True)\n",
    "\n",
    "    # Get the scores of the 10 most similar movies\n",
    "    sim_scores = sim_scores[1:n+1]\n",
    "\n",
    "    # Get the movie indices\n",
    "    movie_indices = [i[0] for i in sim_scores]\n",
    "\n",
    "    # Return the top 10 most similar movies\n",
    "    return movies_gp['title'].iloc[movie_indices]"
   ]
  },
  {
   "cell_type": "code",
   "execution_count": 200,
   "metadata": {},
   "outputs": [
    {
     "data": {
      "text/plain": [
       "111                          The Dark Knight\n",
       "316                           Batman & Robin\n",
       "3608    3 Ninjas: High Noon at Mega Mountain\n",
       "212                                   Batman\n",
       "5537            Teenage Mutant Ninja Turtles\n",
       "285                           Batman Returns\n",
       "1019                          State of Grace\n",
       "2832                                  Wanted\n",
       "2977                             Harry Brown\n",
       "3963                           Hero at Large\n",
       "Name: title, dtype: object"
      ]
     },
     "execution_count": 200,
     "metadata": {},
     "output_type": "execute_result"
    }
   ],
   "source": [
    "get_similar_movies('Batman Begins')"
   ]
  },
  {
   "attachments": {},
   "cell_type": "markdown",
   "metadata": {},
   "source": [
    "The movies similarites are not decisive enough to get recommendations, I think the quality of the movie should get into play"
   ]
  },
  {
   "cell_type": "code",
   "execution_count": 201,
   "metadata": {},
   "outputs": [],
   "source": [
    "def get_recommendation(title, n= 10):\n",
    "    idx = movie_bytitle[title]\n",
    "\n",
    "    sim_scores = np.array(cosine_sim[idx])\n",
    "    ratings = np.array(movies_gp.vote_average)/10\n",
    "\n",
    "    f_score = (ratings * sim_scores) / (ratings + sim_scores)\n",
    "\n",
    "    f_score = list(enumerate(f_score))\n",
    "    # Sort the movies based on the similarity scores\n",
    "    f_score = sorted(f_score, key=lambda x: x[1], reverse=True)\n",
    "\n",
    "    # Get the scores of the 10 most similar movies\n",
    "    f_score = f_score[1:n+1]\n",
    "\n",
    "    # Get the movie indices\n",
    "    movie_indices = [i[0] for i in f_score]\n",
    "\n",
    "    # Return the top 10 most similar movies\n",
    "    return movies_gp['title'].iloc[movie_indices]\n",
    "    "
   ]
  },
  {
   "cell_type": "code",
   "execution_count": 202,
   "metadata": {},
   "outputs": [
    {
     "name": "stderr",
     "output_type": "stream",
     "text": [
      "C:\\Users\\hp\\AppData\\Local\\Temp\\ipykernel_10988\\2165218889.py:7: RuntimeWarning: invalid value encountered in divide\n",
      "  f_score = (ratings * sim_scores) / (ratings + sim_scores)\n"
     ]
    },
    {
     "data": {
      "text/plain": [
       "111     The Dark Knight\n",
       "316      Batman & Robin\n",
       "212              Batman\n",
       "285      Batman Returns\n",
       "1019     State of Grace\n",
       "3720             仁義なき戦い\n",
       "193         The Killing\n",
       "1172           Superman\n",
       "803        The Prestige\n",
       "315      Batman Forever\n",
       "Name: title, dtype: object"
      ]
     },
     "execution_count": 202,
     "metadata": {},
     "output_type": "execute_result"
    }
   ],
   "source": [
    "get_recommendation('Batman Begins')"
   ]
  },
  {
   "cell_type": "code",
   "execution_count": 203,
   "metadata": {},
   "outputs": [
    {
     "name": "stderr",
     "output_type": "stream",
     "text": [
      "C:\\Users\\hp\\AppData\\Local\\Temp\\ipykernel_10988\\2165218889.py:7: RuntimeWarning: invalid value encountered in divide\n",
      "  f_score = (ratings * sim_scores) / (ratings + sim_scores)\n"
     ]
    },
    {
     "data": {
      "text/plain": [
       "145     Star Trek: Generations\n",
       "68                    Predator\n",
       "905    Blood: The Last Vampire\n",
       "152    Star Trek: Insurrection\n",
       "59                        Tron\n",
       "448                    Солярис\n",
       "803               The Prestige\n",
       "136            Minority Report\n",
       "913                        綠草地\n",
       "997                 The Island\n",
       "Name: title, dtype: object"
      ]
     },
     "execution_count": 203,
     "metadata": {},
     "output_type": "execute_result"
    }
   ],
   "source": [
    "get_recommendation('Inception')"
   ]
  }
 ],
 "metadata": {
  "kernelspec": {
   "display_name": "base",
   "language": "python",
   "name": "python3"
  },
  "language_info": {
   "codemirror_mode": {
    "name": "ipython",
    "version": 3
   },
   "file_extension": ".py",
   "mimetype": "text/x-python",
   "name": "python",
   "nbconvert_exporter": "python",
   "pygments_lexer": "ipython3",
   "version": "3.9.12"
  },
  "orig_nbformat": 4
 },
 "nbformat": 4,
 "nbformat_minor": 2
}
