{
 "cells": [
  {
   "cell_type": "code",
   "execution_count": null,
   "metadata": {},
   "outputs": [],
   "source": [
    "from pyspark.sql import SparkSession\n",
    "from pyspark.ml.evaluation import RegressionEvaluator\n",
    "from pyspark.ml.recommendation import ALS\n",
    "from pyspark.ml.tuning import CrossValidator, ParamGridBuilder"
   ]
  },
  {
   "cell_type": "code",
   "execution_count": null,
   "metadata": {},
   "outputs": [],
   "source": [
    "# initiating spark session\n",
    "spark = SparkSession.builder.appName('IMDb').getOrCreate()"
   ]
  },
  {
   "cell_type": "code",
   "execution_count": null,
   "metadata": {},
   "outputs": [],
   "source": [
    "# loading ratings\n",
    "df = spark.read.csv(r'./dataclean/ratings.csv', inferSchema= True, header= True)"
   ]
  },
  {
   "cell_type": "code",
   "execution_count": null,
   "metadata": {},
   "outputs": [],
   "source": [
    "(train, test) = df.randomSplit([0.95, 0.05], seed= 27)"
   ]
  },
  {
   "cell_type": "code",
   "execution_count": null,
   "metadata": {},
   "outputs": [],
   "source": [
    "# Alternating Least Squares (ALS) algorithm for collaborative filtering\n",
    "als = ALS(maxIter= 5, regParam= 0.01, userCol= 'userId', itemCol= 'movieId', ratingCol= 'rating', \\\n",
    "    coldStartStrategy= \"drop\", nonnegative= True, implicitPrefs= False)"
   ]
  },
  {
   "cell_type": "code",
   "execution_count": null,
   "metadata": {},
   "outputs": [],
   "source": [
    "# Define evaluator as RMSE\n",
    "evaluator = RegressionEvaluator(metricName=\"rmse\", labelCol=\"rating\", predictionCol=\"prediction\")"
   ]
  },
  {
   "cell_type": "code",
   "execution_count": null,
   "metadata": {},
   "outputs": [],
   "source": [
    "model = als.fit(train)"
   ]
  },
  {
   "cell_type": "code",
   "execution_count": null,
   "metadata": {},
   "outputs": [],
   "source": [
    "pred = model.transform(test)"
   ]
  },
  {
   "cell_type": "code",
   "execution_count": null,
   "metadata": {},
   "outputs": [],
   "source": [
    "pred.show()"
   ]
  },
  {
   "cell_type": "code",
   "execution_count": null,
   "metadata": {},
   "outputs": [],
   "source": [
    "rmse = evaluator.evaluate(pred)\n",
    "print(\"Root-mean-square error = \" + str(rmse))\n"
   ]
  },
  {
   "cell_type": "code",
   "execution_count": null,
   "metadata": {},
   "outputs": [],
   "source": [
    "als = ALS(maxIter= 10, regParam= 0.1, userCol= 'userId', itemCol= 'movieId', ratingCol= 'rating', \\\n",
    "            coldStartStrategy= \"drop\", nonnegative= True, implicitPrefs= False)\n",
    "model = als.fit(train)\n",
    "\n",
    "pred = model.transform(test)\n",
    "\n",
    "rmse = evaluator.evaluate(pred)\n",
    "print(\"Root-mean-square error = \" + str(rmse))"
   ]
  },
  {
   "cell_type": "code",
   "execution_count": null,
   "metadata": {},
   "outputs": [],
   "source": [
    "# hyperparameter tuning\n",
    "# !insensitive Computations\n",
    "\n",
    "'''\n",
    "paramGrid = ParamGridBuilder() \\\n",
    "    .addGrid(als.rank, [10, 50, 100]) \\\n",
    "    .addGrid(als.maxIter, [5, 50, 100]) \\\n",
    "    .addGrid(als.regParam, [0.01, 0.05, 0.1]) \\\n",
    "    .build()\n",
    "    \n",
    "tvs = CrossValidator(estimator=als, estimatorParamMaps=paramGrid, evaluator=evaluator)\n",
    "\n",
    "model = tvs.fit(train)\n",
    "    \n",
    "best_model = model.bestModel\n",
    "\n",
    "# Get the best hyperparameters\n",
    "best_rank = best_model.rank\n",
    "best_maxIter = best_model._java_obj.parent().getMaxIter()\n",
    "best_regParam = best_model._java_obj.parent().getRegParam()\n",
    "\n",
    "# Print the best hyperparameters\n",
    "print(\"Best Rank: \", best_rank)\n",
    "print(\"Best MaxIter: \", best_maxIter)\n",
    "print(\"Best RegParam: \", best_regParam)\n",
    "'''"
   ]
  },
  {
   "attachments": {},
   "cell_type": "markdown",
   "metadata": {},
   "source": [
    "maxIters = [5, 10, 15]\n",
    "regParams = [0.01, 0.05, 0.1]\n",
    "\n",
    "Root-mean-square error = 0.8885246521231005\n",
    "Root-mean-square error = 0.8610997118672273\n",
    "Root-mean-square error = 0.8390232613429933\n",
    "\n",
    "Root-mean-square error = 0.8767621283015823\n",
    "Root-mean-square error = 0.8446793441851539\n",
    "Root-mean-square error = 0.8361191736825451"
   ]
  },
  {
   "cell_type": "code",
   "execution_count": null,
   "metadata": {},
   "outputs": [],
   "source": [
    "# try it with for loop to find the best hyperparameters\n",
    "# !insensitive Computations\n",
    "\n",
    "'''\n",
    "maxIters = [5, 10, 15]\n",
    "regParams = [0.01, 0.05, 0.1]\n",
    "lowest_rmse = 100\n",
    "best_model = None\n",
    "\n",
    "for maxIter in maxIters:\n",
    "    for regParam in regParams:\n",
    "        als = ALS(maxIter= maxIter, regParam= regParam, userCol= 'userId', itemCol= 'movieId', ratingCol= 'rating', \\\n",
    "            coldStartStrategy= \"drop\", nonnegative= True, implicitPrefs= False)\n",
    "        model = als.fit(train)\n",
    "        pred = model.transform(test)\n",
    "        rmse = evaluator.evaluate(pred)\n",
    "        print(\"Root-mean-square error = \" + str(rmse))\n",
    "        if rmse < lowest_rmse:\n",
    "            lowest_rmse = rmse\n",
    "            best_model = model\n",
    "'''"
   ]
  },
  {
   "attachments": {},
   "cell_type": "markdown",
   "metadata": {},
   "source": [
    "Now it is acceptable to use the model on the whole data to make predictions to all users"
   ]
  },
  {
   "cell_type": "code",
   "execution_count": null,
   "metadata": {},
   "outputs": [],
   "source": [
    "als = ALS(maxIter= 10, regParam= 0.1, userCol= 'userId', itemCol= 'movieId', ratingCol= 'rating', \\\n",
    "            coldStartStrategy= \"drop\", nonnegative= True, implicitPrefs= False)"
   ]
  },
  {
   "cell_type": "code",
   "execution_count": null,
   "metadata": {},
   "outputs": [],
   "source": [
    "model = als.fit(df)\n",
    "pred = model.transform(df)"
   ]
  },
  {
   "cell_type": "code",
   "execution_count": null,
   "metadata": {},
   "outputs": [],
   "source": [
    "rmse = evaluator.evaluate(pred)\n",
    "print(f\"RMSE: {rmse}\")"
   ]
  },
  {
   "cell_type": "code",
   "execution_count": null,
   "metadata": {},
   "outputs": [],
   "source": [
    "users_rec = model.recommendForAllUsers(10).toPandas()"
   ]
  },
  {
   "cell_type": "code",
   "execution_count": null,
   "metadata": {},
   "outputs": [],
   "source": [
    "users_rec.head()"
   ]
  },
  {
   "cell_type": "code",
   "execution_count": null,
   "metadata": {},
   "outputs": [],
   "source": [
    "import pandas as pd\n",
    "ratings = pd.read_csv('./dataclean/ratings.csv')"
   ]
  },
  {
   "cell_type": "code",
   "execution_count": null,
   "metadata": {},
   "outputs": [],
   "source": [
    "movies = pd.read_csv('./dataclean/metadata.csv')\n",
    "movies.columns"
   ]
  },
  {
   "cell_type": "code",
   "execution_count": null,
   "metadata": {},
   "outputs": [],
   "source": [
    "movies[movies['movie_id'] == 104103]"
   ]
  },
  {
   "cell_type": "code",
   "execution_count": null,
   "metadata": {},
   "outputs": [],
   "source": [
    "ratings[(ratings.movieId == 862) & (ratings.rating > 4)].head()\n"
   ]
  },
  {
   "cell_type": "code",
   "execution_count": null,
   "metadata": {},
   "outputs": [],
   "source": [
    "rec_byId = users_rec.set_index('userId')"
   ]
  },
  {
   "cell_type": "code",
   "execution_count": null,
   "metadata": {},
   "outputs": [],
   "source": [
    "lis = list(ratings[ratings.userId == 2103].sort_values(by='rating').movieId)[:10]\n",
    "movies[movies.movie_id.isin(lis)]"
   ]
  }
 ],
 "metadata": {
  "kernelspec": {
   "display_name": "base",
   "language": "python",
   "name": "python3"
  },
  "language_info": {
   "codemirror_mode": {
    "name": "ipython",
    "version": 3
   },
   "file_extension": ".py",
   "mimetype": "text/x-python",
   "name": "python",
   "nbconvert_exporter": "python",
   "pygments_lexer": "ipython3",
   "version": "3.9.13"
  },
  "orig_nbformat": 4
 },
 "nbformat": 4,
 "nbformat_minor": 2
}
