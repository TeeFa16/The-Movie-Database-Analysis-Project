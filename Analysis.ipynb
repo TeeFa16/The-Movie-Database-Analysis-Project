{
 "cells": [
  {
   "cell_type": "code",
   "execution_count": 1,
   "metadata": {},
   "outputs": [],
   "source": [
    "from pyspark.sql import SparkSession\n",
    "import pyspark.sql.functions as F\n",
    "import pandas as pd"
   ]
  },
  {
   "cell_type": "code",
   "execution_count": 2,
   "metadata": {},
   "outputs": [],
   "source": [
    "spark = SparkSession.builder.appName(\"IMDB\").getOrCreate()"
   ]
  },
  {
   "attachments": {},
   "cell_type": "markdown",
   "metadata": {},
   "source": [
    "Now i am working on a dataset with size over 700 mb \n",
    "I will be using PySpark to get insightful statistics that would help in the process of analysis and visulaization of data.  \n",
    "Gathering the info about how many ratings does every movie has and the average rating of every movie, also the users rate of ratings in value and also quantity."
   ]
  },
  {
   "cell_type": "code",
   "execution_count": 3,
   "metadata": {},
   "outputs": [
    {
     "name": "stdout",
     "output_type": "stream",
     "text": [
      "+------+-------+------+----------+\n",
      "|userId|movieId|rating| timestamp|\n",
      "+------+-------+------+----------+\n",
      "|     1|    110|   1.0|1425941529|\n",
      "|     1|    147|   4.5|1425942435|\n",
      "|     1|    858|   5.0|1425941523|\n",
      "|     1|   1221|   5.0|1425941546|\n",
      "|     1|   1246|   5.0|1425941556|\n",
      "+------+-------+------+----------+\n",
      "only showing top 5 rows\n",
      "\n"
     ]
    }
   ],
   "source": [
    "df_pyspark = spark.read.csv(\"data/ratings.csv\", header=True)\n",
    "df_pyspark.show(5)"
   ]
  },
  {
   "cell_type": "code",
   "execution_count": 4,
   "metadata": {},
   "outputs": [],
   "source": [
    "# drop timestamp since we don't need it\n",
    "df_pyspark = df_pyspark.drop(\"timestamp\")"
   ]
  },
  {
   "attachments": {},
   "cell_type": "markdown",
   "metadata": {},
   "source": [
    "##### We have over 26 million reviews !!! \n",
    "##### over 45k unique movie with over 250k unique user"
   ]
  },
  {
   "cell_type": "code",
   "execution_count": 5,
   "metadata": {},
   "outputs": [
    {
     "name": "stdout",
     "output_type": "stream",
     "text": [
      "26024289\n",
      "45115\n",
      "270896\n"
     ]
    }
   ],
   "source": [
    "print(df_pyspark.count())\n",
    "print(df_pyspark.select('movieId').distinct().count())\n",
    "print(df_pyspark.select('userId').distinct().count())"
   ]
  },
  {
   "cell_type": "code",
   "execution_count": 5,
   "metadata": {},
   "outputs": [
    {
     "name": "stdout",
     "output_type": "stream",
     "text": [
      "+-------+-----------------+-------------+\n",
      "|movieId|      avg(rating)|count(rating)|\n",
      "+-------+-----------------+-------------+\n",
      "|    356|4.052925882007376|        91921|\n",
      "|    318|4.429014514393623|        91082|\n",
      "|    296|4.169975313136369|        87901|\n",
      "|    593| 4.15224553390899|        84078|\n",
      "|   2571|4.154098255515649|        77960|\n",
      "+-------+-----------------+-------------+\n",
      "only showing top 5 rows\n",
      "\n"
     ]
    }
   ],
   "source": [
    "df_pyspark.groupBy('movieId').agg(F.mean('rating'), F.count('rating')).sort('count(rating)', ascending=False).show(5)\n"
   ]
  },
  {
   "cell_type": "code",
   "execution_count": 9,
   "metadata": {},
   "outputs": [],
   "source": [
    "movies_rating = df_pyspark.groupBy('movieId').agg(F.mean('rating'), F.count('rating')).sort('count(rating)', ascending=False).toPandas()\n"
   ]
  },
  {
   "cell_type": "code",
   "execution_count": 15,
   "metadata": {},
   "outputs": [
    {
     "data": {
      "text/plain": [
       "array([[<Axes: title={'center': 'avg(rating)'}>]], dtype=object)"
      ]
     },
     "execution_count": 15,
     "metadata": {},
     "output_type": "execute_result"
    },
    {
     "data": {
      "image/png": "[encoded data removed]",
      "text/plain": [
       "<Figure size 432x288 with 1 Axes>"
      ]
     },
     "metadata": {},
     "output_type": "display_data"
    }
   ],
   "source": [
    "movies_rating.hist(column='avg(rating)', bins=50)\n"
   ]
  },
  {
   "attachments": {},
   "cell_type": "markdown",
   "metadata": {},
   "source": [
    "Movie with id 356 is not found????"
   ]
  },
  {
   "cell_type": "code",
   "execution_count": 32,
   "metadata": {},
   "outputs": [
    {
     "data": {
      "text/html": [
       "<div>\n",
       "<style scoped>\n",
       "    .dataframe tbody tr th:only-of-type {\n",
       "        vertical-align: middle;\n",
       "    }\n",
       "\n",
       "    .dataframe tbody tr th {\n",
       "        vertical-align: top;\n",
       "    }\n",
       "\n",
       "    .dataframe thead th {\n",
       "        text-align: right;\n",
       "    }\n",
       "</style>\n",
       "<table border=\"1\" class=\"dataframe\">\n",
       "  <thead>\n",
       "    <tr style=\"text-align: right;\">\n",
       "      <th></th>\n",
       "      <th>movie_id</th>\n",
       "      <th>title</th>\n",
       "      <th>release_date</th>\n",
       "      <th>popularity</th>\n",
       "      <th>budget</th>\n",
       "      <th>revenue</th>\n",
       "      <th>vote_average</th>\n",
       "      <th>vote_count</th>\n",
       "    </tr>\n",
       "  </thead>\n",
       "  <tbody>\n",
       "  </tbody>\n",
       "</table>\n",
       "</div>"
      ],
      "text/plain": [
       "Empty DataFrame\n",
       "Columns: [movie_id, title, release_date, popularity, budget, revenue, vote_average, vote_count]\n",
       "Index: []"
      ]
     },
     "execution_count": 32,
     "metadata": {},
     "output_type": "execute_result"
    }
   ],
   "source": [
    "movies = pd.read_csv(\"processed/metadata.csv\")\n",
    "#get movie with id 356\n",
    "movies[movies['movie_id'] == '356']"
   ]
  },
  {
   "cell_type": "code",
   "execution_count": 16,
   "metadata": {},
   "outputs": [
    {
     "name": "stdout",
     "output_type": "stream",
     "text": [
      "+------+------------------+-------------+\n",
      "|userId|       avg(rating)|count(rating)|\n",
      "+------+------------------+-------------+\n",
      "|   296|3.5853658536585367|          123|\n",
      "|   467|               4.2|            5|\n",
      "|   675| 3.227272727272727|           22|\n",
      "|   691|3.8947368421052633|           19|\n",
      "|   829|3.7196969696969697|          132|\n",
      "+------+------------------+-------------+\n",
      "only showing top 5 rows\n",
      "\n"
     ]
    }
   ],
   "source": [
    "df_pyspark.groupBy('userId').agg(F.mean('rating'), F.count('rating')).show(5)"
   ]
  },
  {
   "cell_type": "code",
   "execution_count": 17,
   "metadata": {},
   "outputs": [],
   "source": [
    "user_ratings = df_pyspark.groupBy('userId').agg(F.mean('rating'), F.count('rating')).toPandas()"
   ]
  },
  {
   "cell_type": "code",
   "execution_count": 18,
   "metadata": {},
   "outputs": [
    {
     "data": {
      "text/plain": [
       "array([[<Axes: title={'center': 'avg(rating)'}>]], dtype=object)"
      ]
     },
     "execution_count": 18,
     "metadata": {},
     "output_type": "execute_result"
    },
    {
     "data": {
      "image/png": "[encoded data removed]",
      "text/plain": [
       "<Figure size 432x288 with 1 Axes>"
      ]
     },
     "metadata": {},
     "output_type": "display_data"
    }
   ],
   "source": [
    "user_ratings.hist(column='avg(rating)', bins=50)"
   ]
  },
  {
   "cell_type": "code",
   "execution_count": 34,
   "metadata": {},
   "outputs": [],
   "source": [
    "movies_ratings = df_pyspark.groupBy('movieId').agg(F.mean('rating'), F.count('rating')).toPandas()\n",
    "users_ratings = df_pyspark.groupBy('userId').agg(F.mean('rating'), F.count('rating')).toPandas()\n",
    "\n",
    "movies_ratings.columns = ['movieId', 'rating_avg', 'rating_count']\n",
    "users_ratings.columns = ['userId', 'rating_avg', 'rating_count']\n",
    "\n",
    "#save to csv\n",
    "movies_ratings.to_csv(\"processed/movies_ratings.csv\", index=False)\n",
    "users_ratings.to_csv(\"processed/users_ratings.csv\", index=False)"
   ]
  },
  {
   "attachments": {},
   "cell_type": "markdown",
   "metadata": {},
   "source": [
    "since some of the data in rating were not found in the movies we will validate them"
   ]
  },
  {
   "attachments": {},
   "cell_type": "markdown",
   "metadata": {},
   "source": [
    "# Data integrity "
   ]
  },
  {
   "cell_type": "code",
   "execution_count": 35,
   "metadata": {},
   "outputs": [],
   "source": [
    "meta_data = pd.read_csv(\"processed/metadata.csv\")\n",
    "movie_ratings = pd.read_csv(\"processed/movies_ratings.csv\")"
   ]
  },
  {
   "cell_type": "code",
   "execution_count": 36,
   "metadata": {},
   "outputs": [
    {
     "data": {
      "text/plain": [
       "False"
      ]
     },
     "execution_count": 36,
     "metadata": {},
     "output_type": "execute_result"
    }
   ],
   "source": [
    "# First check the movies ids to be the same in both\n",
    "meta_id = set(meta_data.movie_id.unique())\n",
    "ratings_id = set(movie_ratings.movieId.unique())\n",
    "meta_id == ratings_id"
   ]
  },
  {
   "cell_type": "code",
   "execution_count": 37,
   "metadata": {},
   "outputs": [
    {
     "data": {
      "text/plain": [
       "(44985, 45115)"
      ]
     },
     "execution_count": 37,
     "metadata": {},
     "output_type": "execute_result"
    }
   ],
   "source": [
    "len(meta_id), len(ratings_id)"
   ]
  },
  {
   "cell_type": "code",
   "execution_count": 38,
   "metadata": {},
   "outputs": [
    {
     "name": "stdout",
     "output_type": "stream",
     "text": [
      "The number of movies only in the metadata 37482\n",
      "The number of movies only in the ratings 37612\n",
      "The number of movies only in both 7503\n"
     ]
    }
   ],
   "source": [
    "print(f\"The number of movies only in the metadata {len(meta_id - ratings_id)}\")\n",
    "print(f\"The number of movies only in the ratings {len(ratings_id - meta_id)}\")\n",
    "print(f\"The number of movies only in both {len(ratings_id & meta_id)}\")"
   ]
  },
  {
   "attachments": {},
   "cell_type": "markdown",
   "metadata": {},
   "source": [
    "After investegation, the ids of interest are the nearly 7.5k movies that we have metadata about and are actually rated by users, this requires refining the cleaned data to ensure integrity, to explore the content based and user based recommendation, the data should appear in both"
   ]
  },
  {
   "cell_type": "code",
   "execution_count": 39,
   "metadata": {},
   "outputs": [],
   "source": [
    "target_ids = ratings_id & meta_id"
   ]
  },
  {
   "cell_type": "code",
   "execution_count": 40,
   "metadata": {},
   "outputs": [],
   "source": [
    "# Filter the metadata\n",
    "# We will filter the metadata to only include the movies that are in the ratings dataset\n",
    "# we will also drop duplicates\n",
    "simple_filters_files = ['actors', 'directors', 'genres', 'keywords', 'metadata']\n",
    "\n",
    "for filename in simple_filters_files:\n",
    "    df = pd.read_csv(f'./processed/{filename}.csv')\n",
    "    df.movie_id = df.movie_id.astype(int)\n",
    "    df = df[df.movie_id.isin(target_ids)]\n",
    "    df.drop_duplicates(inplace= True)\n",
    "    df.to_csv(f'./dataclean/{filename}.csv', header= True, index= False)\n",
    "    \n",
    "    "
   ]
  },
  {
   "cell_type": "code",
   "execution_count": 41,
   "metadata": {},
   "outputs": [
    {
     "data": {
      "text/plain": [
       "(26024289, 4)"
      ]
     },
     "execution_count": 41,
     "metadata": {},
     "output_type": "execute_result"
    }
   ],
   "source": [
    "# second we should filter the ratings before applying aggregate functions again\n",
    "ratings = pd.read_csv(r'./data/ratings.csv')\n",
    "ratings.shape\n"
   ]
  },
  {
   "cell_type": "code",
   "execution_count": 42,
   "metadata": {},
   "outputs": [],
   "source": [
    "# timestamp is still not needed\n",
    "ratings.drop(columns= ['timestamp'], inplace= True)"
   ]
  },
  {
   "cell_type": "code",
   "execution_count": 43,
   "metadata": {},
   "outputs": [
    {
     "data": {
      "text/plain": [
       "11417356"
      ]
     },
     "execution_count": 43,
     "metadata": {},
     "output_type": "execute_result"
    }
   ],
   "source": [
    "ratings = ratings[ratings.movieId.isin(target_ids)]\n",
    "len(ratings)"
   ]
  },
  {
   "attachments": {},
   "cell_type": "markdown",
   "metadata": {},
   "source": [
    "We are left with legit 11 Million ratings for the 7500 movies "
   ]
  },
  {
   "cell_type": "code",
   "execution_count": 44,
   "metadata": {},
   "outputs": [],
   "source": [
    "ratings.to_csv('./dataclean/ratings.csv', header= True, index= False)"
   ]
  },
  {
   "cell_type": "code",
   "execution_count": 45,
   "metadata": {},
   "outputs": [
    {
     "name": "stdout",
     "output_type": "stream",
     "text": [
      "+------+-------+------+\n",
      "|userId|movieId|rating|\n",
      "+------+-------+------+\n",
      "|     1|    110|   1.0|\n",
      "|     1|    147|   4.5|\n",
      "|     1|    858|   5.0|\n",
      "|     1|   1246|   5.0|\n",
      "|     1|   1968|   4.0|\n",
      "+------+-------+------+\n",
      "only showing top 5 rows\n",
      "\n"
     ]
    }
   ],
   "source": [
    "df_pyspark = spark.read.csv(r'./dataclean/ratings.csv', header= True, inferSchema= True)\n",
    "df_pyspark.show(5)"
   ]
  },
  {
   "cell_type": "code",
   "execution_count": 46,
   "metadata": {},
   "outputs": [],
   "source": [
    "\n",
    "movies_ratings = df_pyspark.groupBy('movieId').agg(F.mean('rating'), F.count('rating')).toPandas()\n",
    "users_ratings = df_pyspark.groupBy('userId').agg(F.mean('rating'), F.count('rating')).toPandas()\n",
    "\n",
    "movies_ratings.columns = ['movieId', 'rating_avg', 'rating_count']\n",
    "users_ratings.columns = ['userId', 'rating_avg', 'rating_count']\n",
    "\n",
    "#round to 2 decimals\n",
    "movies_ratings.rating_avg = movies_ratings.rating_avg.round(2)\n",
    "users_ratings.rating_avg = users_ratings.rating_avg.round(2)\n",
    "\n",
    "#save to csv\n",
    "movies_ratings.to_csv(\"./dataclean/movies_ratings.csv\", index=False)\n",
    "users_ratings.to_csv(\"./dataclean/users_ratings.csv\", index=False)"
   ]
  }
 ],
 "metadata": {
  "kernelspec": {
   "display_name": "base",
   "language": "python",
   "name": "python3"
  },
  "language_info": {
   "codemirror_mode": {
    "name": "ipython",
    "version": 3
   },
   "file_extension": ".py",
   "mimetype": "text/x-python",
   "name": "python",
   "nbconvert_exporter": "python",
   "pygments_lexer": "ipython3",
   "version": "3.9.12"
  },
  "orig_nbformat": 4
 },
 "nbformat": 4,
 "nbformat_minor": 2
}
